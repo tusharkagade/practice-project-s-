{
 "cells": [
  {
   "cell_type": "code",
   "execution_count": 102,
   "id": "341ad241",
   "metadata": {},
   "outputs": [],
   "source": [
    "import numpy as np\n",
    "import pandas as pd\n",
    "import matplotlib.pyplot as plt\n",
    "import seaborn as sns\n",
    "import scipy.stats as stats\n",
    "import sklearn\n",
    "import warnings\n",
    "warnings.filterwarnings('ignore')\n",
    "from sklearn.preprocessing import OrdinalEncoder\n",
    "from sklearn.preprocessing import StandardScaler\n",
    "from  statsmodels.stats.outliers_influence import variance_inflation_factor\n",
    "from sklearn.linear_model import LinearRegression\n",
    "from sklearn.linear_model import LogisticRegression\n",
    "from sklearn.svm import SVR\n",
    "from sklearn.tree import DecisionTreeRegressor\n",
    "from sklearn.neighbors import KNeighborsRegressor\n",
    "from sklearn.ensemble import RandomForestRegressor\n",
    "from sklearn.ensemble import AdaBoostRegressor\n",
    "from sklearn.ensemble import ExtraTreesRegressor\n",
    "from sklearn.ensemble import GradientBoostingRegressor\n",
    "from sklearn.model_selection import train_test_split\n",
    "from sklearn.model_selection import GridSearchCV\n",
    "from sklearn.metrics import mean_squared_error,mean_absolute_error,r2_score\n",
    "from sklearn.model_selection import cross_val_score\n",
    "from sklearn.model_selection import RandomizedSearchCV\n",
    "from sklearn.preprocessing import OrdinalEncoder"
   ]
  },
  {
   "cell_type": "code",
   "execution_count": null,
   "id": "1594a636",
   "metadata": {},
   "outputs": [],
   "source": []
  },
  {
   "cell_type": "code",
   "execution_count": 2,
   "id": "4995384d",
   "metadata": {},
   "outputs": [],
   "source": [
    "df=pd.read_excel('Data_Train (2).xlsx')"
   ]
  },
  {
   "cell_type": "code",
   "execution_count": 3,
   "id": "1f4538a5",
   "metadata": {},
   "outputs": [
    {
     "data": {
      "text/html": [
       "<div>\n",
       "<style scoped>\n",
       "    .dataframe tbody tr th:only-of-type {\n",
       "        vertical-align: middle;\n",
       "    }\n",
       "\n",
       "    .dataframe tbody tr th {\n",
       "        vertical-align: top;\n",
       "    }\n",
       "\n",
       "    .dataframe thead th {\n",
       "        text-align: right;\n",
       "    }\n",
       "</style>\n",
       "<table border=\"1\" class=\"dataframe\">\n",
       "  <thead>\n",
       "    <tr style=\"text-align: right;\">\n",
       "      <th></th>\n",
       "      <th>TITLE</th>\n",
       "      <th>RESTAURANT_ID</th>\n",
       "      <th>CUISINES</th>\n",
       "      <th>TIME</th>\n",
       "      <th>CITY</th>\n",
       "      <th>LOCALITY</th>\n",
       "      <th>RATING</th>\n",
       "      <th>VOTES</th>\n",
       "      <th>COST</th>\n",
       "    </tr>\n",
       "  </thead>\n",
       "  <tbody>\n",
       "    <tr>\n",
       "      <th>0</th>\n",
       "      <td>CASUAL DINING</td>\n",
       "      <td>9438</td>\n",
       "      <td>Malwani, Goan, North Indian</td>\n",
       "      <td>11am – 4pm, 7:30pm – 11:30pm (Mon-Sun)</td>\n",
       "      <td>Thane</td>\n",
       "      <td>Dombivali East</td>\n",
       "      <td>3.6</td>\n",
       "      <td>49 votes</td>\n",
       "      <td>1200</td>\n",
       "    </tr>\n",
       "    <tr>\n",
       "      <th>1</th>\n",
       "      <td>CASUAL DINING,BAR</td>\n",
       "      <td>13198</td>\n",
       "      <td>Asian, Modern Indian, Japanese</td>\n",
       "      <td>6pm – 11pm (Mon-Sun)</td>\n",
       "      <td>Chennai</td>\n",
       "      <td>Ramapuram</td>\n",
       "      <td>4.2</td>\n",
       "      <td>30 votes</td>\n",
       "      <td>1500</td>\n",
       "    </tr>\n",
       "    <tr>\n",
       "      <th>2</th>\n",
       "      <td>CASUAL DINING</td>\n",
       "      <td>10915</td>\n",
       "      <td>North Indian, Chinese, Biryani, Hyderabadi</td>\n",
       "      <td>11am – 3:30pm, 7pm – 11pm (Mon-Sun)</td>\n",
       "      <td>Chennai</td>\n",
       "      <td>Saligramam</td>\n",
       "      <td>3.8</td>\n",
       "      <td>221 votes</td>\n",
       "      <td>800</td>\n",
       "    </tr>\n",
       "    <tr>\n",
       "      <th>3</th>\n",
       "      <td>QUICK BITES</td>\n",
       "      <td>6346</td>\n",
       "      <td>Tibetan, Chinese</td>\n",
       "      <td>11:30am – 1am (Mon-Sun)</td>\n",
       "      <td>Mumbai</td>\n",
       "      <td>Bandra West</td>\n",
       "      <td>4.1</td>\n",
       "      <td>24 votes</td>\n",
       "      <td>800</td>\n",
       "    </tr>\n",
       "    <tr>\n",
       "      <th>4</th>\n",
       "      <td>DESSERT PARLOR</td>\n",
       "      <td>15387</td>\n",
       "      <td>Desserts</td>\n",
       "      <td>11am – 1am (Mon-Sun)</td>\n",
       "      <td>Mumbai</td>\n",
       "      <td>Lower Parel</td>\n",
       "      <td>3.8</td>\n",
       "      <td>165 votes</td>\n",
       "      <td>300</td>\n",
       "    </tr>\n",
       "    <tr>\n",
       "      <th>...</th>\n",
       "      <td>...</td>\n",
       "      <td>...</td>\n",
       "      <td>...</td>\n",
       "      <td>...</td>\n",
       "      <td>...</td>\n",
       "      <td>...</td>\n",
       "      <td>...</td>\n",
       "      <td>...</td>\n",
       "      <td>...</td>\n",
       "    </tr>\n",
       "    <tr>\n",
       "      <th>12685</th>\n",
       "      <td>QUICK BITES</td>\n",
       "      <td>13228</td>\n",
       "      <td>North Indian, Burger, Kebab</td>\n",
       "      <td>12noon – 12midnight (Mon, Tue, Wed, Thu, Sun)...</td>\n",
       "      <td>Hyderabad</td>\n",
       "      <td>Gachibowli</td>\n",
       "      <td>3.8</td>\n",
       "      <td>546 votes</td>\n",
       "      <td>500</td>\n",
       "    </tr>\n",
       "    <tr>\n",
       "      <th>12686</th>\n",
       "      <td>CASUAL DINING,BAR</td>\n",
       "      <td>9686</td>\n",
       "      <td>Goan, Continental</td>\n",
       "      <td>12noon – 1am (Mon-Fri),11am – 5pm, 7pm – 1am...</td>\n",
       "      <td>Mumbai</td>\n",
       "      <td>Bandra Kurla Complex</td>\n",
       "      <td>4.3</td>\n",
       "      <td>1214 votes</td>\n",
       "      <td>1800</td>\n",
       "    </tr>\n",
       "    <tr>\n",
       "      <th>12687</th>\n",
       "      <td>LOUNGE</td>\n",
       "      <td>11133</td>\n",
       "      <td>Finger Food, Continental, Asian, Chinese</td>\n",
       "      <td>12noon – 12:30AM (Mon-Sun)</td>\n",
       "      <td>Navi Mumbai</td>\n",
       "      <td>Vashi</td>\n",
       "      <td>4.0</td>\n",
       "      <td>608 votes</td>\n",
       "      <td>1300</td>\n",
       "    </tr>\n",
       "    <tr>\n",
       "      <th>12688</th>\n",
       "      <td>CASUAL DINING</td>\n",
       "      <td>6134</td>\n",
       "      <td>North Indian, South Indian, Chinese, Street Food</td>\n",
       "      <td>6am – 10:45pm (Mon-Sun)</td>\n",
       "      <td>Chennai</td>\n",
       "      <td>Maduravoyal</td>\n",
       "      <td>3.5</td>\n",
       "      <td>32 votes</td>\n",
       "      <td>400</td>\n",
       "    </tr>\n",
       "    <tr>\n",
       "      <th>12689</th>\n",
       "      <td>CASUAL DINING</td>\n",
       "      <td>6430</td>\n",
       "      <td>North Indian, Chinese</td>\n",
       "      <td>12:30pm – 11pm (Mon-Sun)</td>\n",
       "      <td>Hyderabad</td>\n",
       "      <td>Vanasthalipuram</td>\n",
       "      <td>3.4</td>\n",
       "      <td>677 votes</td>\n",
       "      <td>600</td>\n",
       "    </tr>\n",
       "  </tbody>\n",
       "</table>\n",
       "<p>12690 rows × 9 columns</p>\n",
       "</div>"
      ],
      "text/plain": [
       "                   TITLE  RESTAURANT_ID  \\\n",
       "0          CASUAL DINING           9438   \n",
       "1      CASUAL DINING,BAR          13198   \n",
       "2          CASUAL DINING          10915   \n",
       "3            QUICK BITES           6346   \n",
       "4         DESSERT PARLOR          15387   \n",
       "...                  ...            ...   \n",
       "12685        QUICK BITES          13228   \n",
       "12686  CASUAL DINING,BAR           9686   \n",
       "12687             LOUNGE          11133   \n",
       "12688      CASUAL DINING           6134   \n",
       "12689      CASUAL DINING           6430   \n",
       "\n",
       "                                               CUISINES  \\\n",
       "0                           Malwani, Goan, North Indian   \n",
       "1                        Asian, Modern Indian, Japanese   \n",
       "2            North Indian, Chinese, Biryani, Hyderabadi   \n",
       "3                                      Tibetan, Chinese   \n",
       "4                                              Desserts   \n",
       "...                                                 ...   \n",
       "12685                       North Indian, Burger, Kebab   \n",
       "12686                                 Goan, Continental   \n",
       "12687          Finger Food, Continental, Asian, Chinese   \n",
       "12688  North Indian, South Indian, Chinese, Street Food   \n",
       "12689                             North Indian, Chinese   \n",
       "\n",
       "                                                   TIME         CITY  \\\n",
       "0                11am – 4pm, 7:30pm – 11:30pm (Mon-Sun)        Thane   \n",
       "1                                  6pm – 11pm (Mon-Sun)      Chennai   \n",
       "2                   11am – 3:30pm, 7pm – 11pm (Mon-Sun)      Chennai   \n",
       "3                               11:30am – 1am (Mon-Sun)       Mumbai   \n",
       "4                                  11am – 1am (Mon-Sun)       Mumbai   \n",
       "...                                                 ...          ...   \n",
       "12685  12noon – 12midnight (Mon, Tue, Wed, Thu, Sun)...    Hyderabad   \n",
       "12686   12noon – 1am (Mon-Fri),11am – 5pm, 7pm – 1am...       Mumbai   \n",
       "12687                        12noon – 12:30AM (Mon-Sun)  Navi Mumbai   \n",
       "12688                           6am – 10:45pm (Mon-Sun)      Chennai   \n",
       "12689                          12:30pm – 11pm (Mon-Sun)    Hyderabad   \n",
       "\n",
       "                   LOCALITY RATING       VOTES  COST  \n",
       "0            Dombivali East    3.6    49 votes  1200  \n",
       "1                 Ramapuram    4.2    30 votes  1500  \n",
       "2                Saligramam    3.8   221 votes   800  \n",
       "3               Bandra West    4.1    24 votes   800  \n",
       "4               Lower Parel    3.8   165 votes   300  \n",
       "...                     ...    ...         ...   ...  \n",
       "12685            Gachibowli    3.8   546 votes   500  \n",
       "12686  Bandra Kurla Complex    4.3  1214 votes  1800  \n",
       "12687                 Vashi    4.0   608 votes  1300  \n",
       "12688           Maduravoyal    3.5    32 votes   400  \n",
       "12689       Vanasthalipuram    3.4   677 votes   600  \n",
       "\n",
       "[12690 rows x 9 columns]"
      ]
     },
     "execution_count": 3,
     "metadata": {},
     "output_type": "execute_result"
    }
   ],
   "source": [
    "df"
   ]
  },
  {
   "cell_type": "code",
   "execution_count": null,
   "id": "8da809cf",
   "metadata": {},
   "outputs": [],
   "source": []
  },
  {
   "cell_type": "code",
   "execution_count": 4,
   "id": "ae29e5a8",
   "metadata": {},
   "outputs": [
    {
     "data": {
      "text/html": [
       "<div>\n",
       "<style scoped>\n",
       "    .dataframe tbody tr th:only-of-type {\n",
       "        vertical-align: middle;\n",
       "    }\n",
       "\n",
       "    .dataframe tbody tr th {\n",
       "        vertical-align: top;\n",
       "    }\n",
       "\n",
       "    .dataframe thead th {\n",
       "        text-align: right;\n",
       "    }\n",
       "</style>\n",
       "<table border=\"1\" class=\"dataframe\">\n",
       "  <thead>\n",
       "    <tr style=\"text-align: right;\">\n",
       "      <th></th>\n",
       "      <th>TITLE</th>\n",
       "      <th>RESTAURANT_ID</th>\n",
       "      <th>CUISINES</th>\n",
       "      <th>TIME</th>\n",
       "      <th>CITY</th>\n",
       "      <th>LOCALITY</th>\n",
       "      <th>RATING</th>\n",
       "      <th>VOTES</th>\n",
       "      <th>COST</th>\n",
       "    </tr>\n",
       "  </thead>\n",
       "  <tbody>\n",
       "    <tr>\n",
       "      <th>0</th>\n",
       "      <td>CASUAL DINING</td>\n",
       "      <td>9438</td>\n",
       "      <td>Malwani, Goan, North Indian</td>\n",
       "      <td>11am – 4pm, 7:30pm – 11:30pm (Mon-Sun)</td>\n",
       "      <td>Thane</td>\n",
       "      <td>Dombivali East</td>\n",
       "      <td>3.6</td>\n",
       "      <td>49 votes</td>\n",
       "      <td>1200</td>\n",
       "    </tr>\n",
       "    <tr>\n",
       "      <th>1</th>\n",
       "      <td>CASUAL DINING,BAR</td>\n",
       "      <td>13198</td>\n",
       "      <td>Asian, Modern Indian, Japanese</td>\n",
       "      <td>6pm – 11pm (Mon-Sun)</td>\n",
       "      <td>Chennai</td>\n",
       "      <td>Ramapuram</td>\n",
       "      <td>4.2</td>\n",
       "      <td>30 votes</td>\n",
       "      <td>1500</td>\n",
       "    </tr>\n",
       "    <tr>\n",
       "      <th>2</th>\n",
       "      <td>CASUAL DINING</td>\n",
       "      <td>10915</td>\n",
       "      <td>North Indian, Chinese, Biryani, Hyderabadi</td>\n",
       "      <td>11am – 3:30pm, 7pm – 11pm (Mon-Sun)</td>\n",
       "      <td>Chennai</td>\n",
       "      <td>Saligramam</td>\n",
       "      <td>3.8</td>\n",
       "      <td>221 votes</td>\n",
       "      <td>800</td>\n",
       "    </tr>\n",
       "    <tr>\n",
       "      <th>3</th>\n",
       "      <td>QUICK BITES</td>\n",
       "      <td>6346</td>\n",
       "      <td>Tibetan, Chinese</td>\n",
       "      <td>11:30am – 1am (Mon-Sun)</td>\n",
       "      <td>Mumbai</td>\n",
       "      <td>Bandra West</td>\n",
       "      <td>4.1</td>\n",
       "      <td>24 votes</td>\n",
       "      <td>800</td>\n",
       "    </tr>\n",
       "    <tr>\n",
       "      <th>4</th>\n",
       "      <td>DESSERT PARLOR</td>\n",
       "      <td>15387</td>\n",
       "      <td>Desserts</td>\n",
       "      <td>11am – 1am (Mon-Sun)</td>\n",
       "      <td>Mumbai</td>\n",
       "      <td>Lower Parel</td>\n",
       "      <td>3.8</td>\n",
       "      <td>165 votes</td>\n",
       "      <td>300</td>\n",
       "    </tr>\n",
       "  </tbody>\n",
       "</table>\n",
       "</div>"
      ],
      "text/plain": [
       "               TITLE  RESTAURANT_ID  \\\n",
       "0      CASUAL DINING           9438   \n",
       "1  CASUAL DINING,BAR          13198   \n",
       "2      CASUAL DINING          10915   \n",
       "3        QUICK BITES           6346   \n",
       "4     DESSERT PARLOR          15387   \n",
       "\n",
       "                                     CUISINES  \\\n",
       "0                 Malwani, Goan, North Indian   \n",
       "1              Asian, Modern Indian, Japanese   \n",
       "2  North Indian, Chinese, Biryani, Hyderabadi   \n",
       "3                            Tibetan, Chinese   \n",
       "4                                    Desserts   \n",
       "\n",
       "                                     TIME     CITY        LOCALITY RATING  \\\n",
       "0  11am – 4pm, 7:30pm – 11:30pm (Mon-Sun)    Thane  Dombivali East    3.6   \n",
       "1                    6pm – 11pm (Mon-Sun)  Chennai       Ramapuram    4.2   \n",
       "2     11am – 3:30pm, 7pm – 11pm (Mon-Sun)  Chennai      Saligramam    3.8   \n",
       "3                 11:30am – 1am (Mon-Sun)   Mumbai     Bandra West    4.1   \n",
       "4                    11am – 1am (Mon-Sun)   Mumbai     Lower Parel    3.8   \n",
       "\n",
       "       VOTES  COST  \n",
       "0   49 votes  1200  \n",
       "1   30 votes  1500  \n",
       "2  221 votes   800  \n",
       "3   24 votes   800  \n",
       "4  165 votes   300  "
      ]
     },
     "execution_count": 4,
     "metadata": {},
     "output_type": "execute_result"
    }
   ],
   "source": [
    "df.head()"
   ]
  },
  {
   "cell_type": "code",
   "execution_count": null,
   "id": "3b8f1793",
   "metadata": {},
   "outputs": [],
   "source": []
  },
  {
   "cell_type": "markdown",
   "id": "6df5c3bb",
   "metadata": {},
   "source": [
    "this are the first 5 columns present in the dataset"
   ]
  },
  {
   "cell_type": "code",
   "execution_count": null,
   "id": "572110d7",
   "metadata": {},
   "outputs": [],
   "source": []
  },
  {
   "cell_type": "code",
   "execution_count": 5,
   "id": "775dbd9b",
   "metadata": {},
   "outputs": [
    {
     "data": {
      "text/html": [
       "<div>\n",
       "<style scoped>\n",
       "    .dataframe tbody tr th:only-of-type {\n",
       "        vertical-align: middle;\n",
       "    }\n",
       "\n",
       "    .dataframe tbody tr th {\n",
       "        vertical-align: top;\n",
       "    }\n",
       "\n",
       "    .dataframe thead th {\n",
       "        text-align: right;\n",
       "    }\n",
       "</style>\n",
       "<table border=\"1\" class=\"dataframe\">\n",
       "  <thead>\n",
       "    <tr style=\"text-align: right;\">\n",
       "      <th></th>\n",
       "      <th>TITLE</th>\n",
       "      <th>RESTAURANT_ID</th>\n",
       "      <th>CUISINES</th>\n",
       "      <th>TIME</th>\n",
       "      <th>CITY</th>\n",
       "      <th>LOCALITY</th>\n",
       "      <th>RATING</th>\n",
       "      <th>VOTES</th>\n",
       "      <th>COST</th>\n",
       "    </tr>\n",
       "  </thead>\n",
       "  <tbody>\n",
       "    <tr>\n",
       "      <th>12685</th>\n",
       "      <td>QUICK BITES</td>\n",
       "      <td>13228</td>\n",
       "      <td>North Indian, Burger, Kebab</td>\n",
       "      <td>12noon – 12midnight (Mon, Tue, Wed, Thu, Sun)...</td>\n",
       "      <td>Hyderabad</td>\n",
       "      <td>Gachibowli</td>\n",
       "      <td>3.8</td>\n",
       "      <td>546 votes</td>\n",
       "      <td>500</td>\n",
       "    </tr>\n",
       "    <tr>\n",
       "      <th>12686</th>\n",
       "      <td>CASUAL DINING,BAR</td>\n",
       "      <td>9686</td>\n",
       "      <td>Goan, Continental</td>\n",
       "      <td>12noon – 1am (Mon-Fri),11am – 5pm, 7pm – 1am...</td>\n",
       "      <td>Mumbai</td>\n",
       "      <td>Bandra Kurla Complex</td>\n",
       "      <td>4.3</td>\n",
       "      <td>1214 votes</td>\n",
       "      <td>1800</td>\n",
       "    </tr>\n",
       "    <tr>\n",
       "      <th>12687</th>\n",
       "      <td>LOUNGE</td>\n",
       "      <td>11133</td>\n",
       "      <td>Finger Food, Continental, Asian, Chinese</td>\n",
       "      <td>12noon – 12:30AM (Mon-Sun)</td>\n",
       "      <td>Navi Mumbai</td>\n",
       "      <td>Vashi</td>\n",
       "      <td>4.0</td>\n",
       "      <td>608 votes</td>\n",
       "      <td>1300</td>\n",
       "    </tr>\n",
       "    <tr>\n",
       "      <th>12688</th>\n",
       "      <td>CASUAL DINING</td>\n",
       "      <td>6134</td>\n",
       "      <td>North Indian, South Indian, Chinese, Street Food</td>\n",
       "      <td>6am – 10:45pm (Mon-Sun)</td>\n",
       "      <td>Chennai</td>\n",
       "      <td>Maduravoyal</td>\n",
       "      <td>3.5</td>\n",
       "      <td>32 votes</td>\n",
       "      <td>400</td>\n",
       "    </tr>\n",
       "    <tr>\n",
       "      <th>12689</th>\n",
       "      <td>CASUAL DINING</td>\n",
       "      <td>6430</td>\n",
       "      <td>North Indian, Chinese</td>\n",
       "      <td>12:30pm – 11pm (Mon-Sun)</td>\n",
       "      <td>Hyderabad</td>\n",
       "      <td>Vanasthalipuram</td>\n",
       "      <td>3.4</td>\n",
       "      <td>677 votes</td>\n",
       "      <td>600</td>\n",
       "    </tr>\n",
       "  </tbody>\n",
       "</table>\n",
       "</div>"
      ],
      "text/plain": [
       "                   TITLE  RESTAURANT_ID  \\\n",
       "12685        QUICK BITES          13228   \n",
       "12686  CASUAL DINING,BAR           9686   \n",
       "12687             LOUNGE          11133   \n",
       "12688      CASUAL DINING           6134   \n",
       "12689      CASUAL DINING           6430   \n",
       "\n",
       "                                               CUISINES  \\\n",
       "12685                       North Indian, Burger, Kebab   \n",
       "12686                                 Goan, Continental   \n",
       "12687          Finger Food, Continental, Asian, Chinese   \n",
       "12688  North Indian, South Indian, Chinese, Street Food   \n",
       "12689                             North Indian, Chinese   \n",
       "\n",
       "                                                   TIME         CITY  \\\n",
       "12685  12noon – 12midnight (Mon, Tue, Wed, Thu, Sun)...    Hyderabad   \n",
       "12686   12noon – 1am (Mon-Fri),11am – 5pm, 7pm – 1am...       Mumbai   \n",
       "12687                        12noon – 12:30AM (Mon-Sun)  Navi Mumbai   \n",
       "12688                           6am – 10:45pm (Mon-Sun)      Chennai   \n",
       "12689                          12:30pm – 11pm (Mon-Sun)    Hyderabad   \n",
       "\n",
       "                   LOCALITY RATING       VOTES  COST  \n",
       "12685            Gachibowli    3.8   546 votes   500  \n",
       "12686  Bandra Kurla Complex    4.3  1214 votes  1800  \n",
       "12687                 Vashi    4.0   608 votes  1300  \n",
       "12688           Maduravoyal    3.5    32 votes   400  \n",
       "12689       Vanasthalipuram    3.4   677 votes   600  "
      ]
     },
     "execution_count": 5,
     "metadata": {},
     "output_type": "execute_result"
    }
   ],
   "source": [
    "df.tail()"
   ]
  },
  {
   "cell_type": "code",
   "execution_count": null,
   "id": "fc5f1c05",
   "metadata": {},
   "outputs": [],
   "source": []
  },
  {
   "cell_type": "markdown",
   "id": "606afebe",
   "metadata": {},
   "source": [
    "this are the last 5 columns present in the dataset"
   ]
  },
  {
   "cell_type": "code",
   "execution_count": null,
   "id": "b4800982",
   "metadata": {},
   "outputs": [],
   "source": []
  },
  {
   "cell_type": "code",
   "execution_count": 6,
   "id": "5947b5ba",
   "metadata": {},
   "outputs": [
    {
     "data": {
      "text/html": [
       "<div>\n",
       "<style scoped>\n",
       "    .dataframe tbody tr th:only-of-type {\n",
       "        vertical-align: middle;\n",
       "    }\n",
       "\n",
       "    .dataframe tbody tr th {\n",
       "        vertical-align: top;\n",
       "    }\n",
       "\n",
       "    .dataframe thead th {\n",
       "        text-align: right;\n",
       "    }\n",
       "</style>\n",
       "<table border=\"1\" class=\"dataframe\">\n",
       "  <thead>\n",
       "    <tr style=\"text-align: right;\">\n",
       "      <th></th>\n",
       "      <th>TITLE</th>\n",
       "      <th>RESTAURANT_ID</th>\n",
       "      <th>CUISINES</th>\n",
       "      <th>TIME</th>\n",
       "      <th>CITY</th>\n",
       "      <th>LOCALITY</th>\n",
       "      <th>RATING</th>\n",
       "      <th>VOTES</th>\n",
       "      <th>COST</th>\n",
       "    </tr>\n",
       "  </thead>\n",
       "  <tbody>\n",
       "    <tr>\n",
       "      <th>394</th>\n",
       "      <td>QUICK BITES</td>\n",
       "      <td>8105</td>\n",
       "      <td>Bengali, North Indian</td>\n",
       "      <td>12noon – 4pm, 7pm – 11pm (Mon-Sun)</td>\n",
       "      <td>New Delhi</td>\n",
       "      <td>Chittaranjan Park</td>\n",
       "      <td>3.9</td>\n",
       "      <td>873 votes</td>\n",
       "      <td>500</td>\n",
       "    </tr>\n",
       "    <tr>\n",
       "      <th>7996</th>\n",
       "      <td>CASUAL DINING</td>\n",
       "      <td>3677</td>\n",
       "      <td>North Indian, Biryani, Mughlai, Kebab</td>\n",
       "      <td>11am – 11pm (Mon-Thu),11am – 1am (Fri-Sun)</td>\n",
       "      <td>Bangalore</td>\n",
       "      <td>Marathahalli</td>\n",
       "      <td>3.5</td>\n",
       "      <td>186 votes</td>\n",
       "      <td>800</td>\n",
       "    </tr>\n",
       "    <tr>\n",
       "      <th>4150</th>\n",
       "      <td>CASUAL DINING,CAFÉ</td>\n",
       "      <td>3609</td>\n",
       "      <td>Continental, Mexican, Cafe, Desserts, Italian,...</td>\n",
       "      <td>7am – 11pm (Mon-Sun)</td>\n",
       "      <td>Navi Mumbai</td>\n",
       "      <td>Kharghar</td>\n",
       "      <td>4.4</td>\n",
       "      <td>2811 votes</td>\n",
       "      <td>850</td>\n",
       "    </tr>\n",
       "    <tr>\n",
       "      <th>9084</th>\n",
       "      <td>CAFÉ</td>\n",
       "      <td>14140</td>\n",
       "      <td>Cafe, Continental, Chinese, Mexican</td>\n",
       "      <td>11am – 3am (Mon-Sun)</td>\n",
       "      <td>Mumbai</td>\n",
       "      <td>Andheri West</td>\n",
       "      <td>NEW</td>\n",
       "      <td>NaN</td>\n",
       "      <td>1100</td>\n",
       "    </tr>\n",
       "    <tr>\n",
       "      <th>10851</th>\n",
       "      <td>CASUAL DINING</td>\n",
       "      <td>1533</td>\n",
       "      <td>Kebab, Arabian</td>\n",
       "      <td>1pm – 12midnight (Mon-Sun)</td>\n",
       "      <td>Hyderabad</td>\n",
       "      <td>Tolichowki</td>\n",
       "      <td>3.5</td>\n",
       "      <td>61 votes</td>\n",
       "      <td>500</td>\n",
       "    </tr>\n",
       "  </tbody>\n",
       "</table>\n",
       "</div>"
      ],
      "text/plain": [
       "                    TITLE  RESTAURANT_ID  \\\n",
       "394           QUICK BITES           8105   \n",
       "7996        CASUAL DINING           3677   \n",
       "4150   CASUAL DINING,CAFÉ           3609   \n",
       "9084                 CAFÉ          14140   \n",
       "10851       CASUAL DINING           1533   \n",
       "\n",
       "                                                CUISINES  \\\n",
       "394                                Bengali, North Indian   \n",
       "7996               North Indian, Biryani, Mughlai, Kebab   \n",
       "4150   Continental, Mexican, Cafe, Desserts, Italian,...   \n",
       "9084                 Cafe, Continental, Chinese, Mexican   \n",
       "10851                                     Kebab, Arabian   \n",
       "\n",
       "                                             TIME         CITY  \\\n",
       "394            12noon – 4pm, 7pm – 11pm (Mon-Sun)    New Delhi   \n",
       "7996   11am – 11pm (Mon-Thu),11am – 1am (Fri-Sun)    Bangalore   \n",
       "4150                         7am – 11pm (Mon-Sun)  Navi Mumbai   \n",
       "9084                         11am – 3am (Mon-Sun)       Mumbai   \n",
       "10851                  1pm – 12midnight (Mon-Sun)    Hyderabad   \n",
       "\n",
       "                LOCALITY RATING       VOTES  COST  \n",
       "394    Chittaranjan Park    3.9   873 votes   500  \n",
       "7996        Marathahalli    3.5   186 votes   800  \n",
       "4150            Kharghar    4.4  2811 votes   850  \n",
       "9084        Andheri West    NEW         NaN  1100  \n",
       "10851         Tolichowki    3.5    61 votes   500  "
      ]
     },
     "execution_count": 6,
     "metadata": {},
     "output_type": "execute_result"
    }
   ],
   "source": [
    "df.sample(5)"
   ]
  },
  {
   "cell_type": "code",
   "execution_count": null,
   "id": "bff9f059",
   "metadata": {},
   "outputs": [],
   "source": []
  },
  {
   "cell_type": "markdown",
   "id": "2ec0996c",
   "metadata": {},
   "source": [
    "this are the some random sample"
   ]
  },
  {
   "cell_type": "code",
   "execution_count": null,
   "id": "5b711522",
   "metadata": {},
   "outputs": [],
   "source": []
  },
  {
   "cell_type": "code",
   "execution_count": 7,
   "id": "4300477d",
   "metadata": {},
   "outputs": [
    {
     "data": {
      "text/plain": [
       "(12690, 9)"
      ]
     },
     "execution_count": 7,
     "metadata": {},
     "output_type": "execute_result"
    }
   ],
   "source": [
    "df.shape"
   ]
  },
  {
   "cell_type": "markdown",
   "id": "29ff4046",
   "metadata": {},
   "source": [
    "this dataset contains 12690 rows and the 9 columns out of that 1 is our target variable"
   ]
  },
  {
   "cell_type": "code",
   "execution_count": null,
   "id": "a1ce3aca",
   "metadata": {},
   "outputs": [],
   "source": []
  },
  {
   "cell_type": "code",
   "execution_count": 8,
   "id": "98b397d9",
   "metadata": {},
   "outputs": [
    {
     "data": {
      "text/plain": [
       "['TITLE',\n",
       " 'RESTAURANT_ID',\n",
       " 'CUISINES',\n",
       " 'TIME',\n",
       " 'CITY',\n",
       " 'LOCALITY',\n",
       " 'RATING',\n",
       " 'VOTES',\n",
       " 'COST']"
      ]
     },
     "execution_count": 8,
     "metadata": {},
     "output_type": "execute_result"
    }
   ],
   "source": [
    "df.columns.to_list()"
   ]
  },
  {
   "cell_type": "code",
   "execution_count": null,
   "id": "72490c89",
   "metadata": {},
   "outputs": [],
   "source": []
  },
  {
   "cell_type": "markdown",
   "id": "97ea6c3b",
   "metadata": {},
   "source": [
    "this are the column names of our dataset"
   ]
  },
  {
   "cell_type": "code",
   "execution_count": null,
   "id": "07d0f250",
   "metadata": {},
   "outputs": [],
   "source": []
  },
  {
   "cell_type": "code",
   "execution_count": 9,
   "id": "302a6427",
   "metadata": {},
   "outputs": [
    {
     "name": "stdout",
     "output_type": "stream",
     "text": [
      "<class 'pandas.core.frame.DataFrame'>\n",
      "RangeIndex: 12690 entries, 0 to 12689\n",
      "Data columns (total 9 columns):\n",
      " #   Column         Non-Null Count  Dtype \n",
      "---  ------         --------------  ----- \n",
      " 0   TITLE          12690 non-null  object\n",
      " 1   RESTAURANT_ID  12690 non-null  int64 \n",
      " 2   CUISINES       12690 non-null  object\n",
      " 3   TIME           12690 non-null  object\n",
      " 4   CITY           12578 non-null  object\n",
      " 5   LOCALITY       12592 non-null  object\n",
      " 6   RATING         12688 non-null  object\n",
      " 7   VOTES          11486 non-null  object\n",
      " 8   COST           12690 non-null  int64 \n",
      "dtypes: int64(2), object(7)\n",
      "memory usage: 892.4+ KB\n"
     ]
    }
   ],
   "source": [
    "df.info()"
   ]
  },
  {
   "cell_type": "code",
   "execution_count": null,
   "id": "466681ef",
   "metadata": {},
   "outputs": [],
   "source": []
  },
  {
   "cell_type": "markdown",
   "id": "c4070bb1",
   "metadata": {},
   "source": [
    "this dataset contains the 2 columns of ('int64') and 7 columns of ('object')"
   ]
  },
  {
   "cell_type": "code",
   "execution_count": null,
   "id": "f926db47",
   "metadata": {},
   "outputs": [],
   "source": []
  },
  {
   "cell_type": "code",
   "execution_count": 10,
   "id": "d1f12c37",
   "metadata": {},
   "outputs": [
    {
     "data": {
      "text/plain": [
       "TITLE            object\n",
       "RESTAURANT_ID     int64\n",
       "CUISINES         object\n",
       "TIME             object\n",
       "CITY             object\n",
       "LOCALITY         object\n",
       "RATING           object\n",
       "VOTES            object\n",
       "COST              int64\n",
       "dtype: object"
      ]
     },
     "execution_count": 10,
     "metadata": {},
     "output_type": "execute_result"
    }
   ],
   "source": [
    "df.dtypes"
   ]
  },
  {
   "cell_type": "code",
   "execution_count": null,
   "id": "899172c4",
   "metadata": {},
   "outputs": [],
   "source": []
  },
  {
   "cell_type": "markdown",
   "id": "62c249eb",
   "metadata": {},
   "source": [
    "this are the datatypes of the features"
   ]
  },
  {
   "cell_type": "code",
   "execution_count": null,
   "id": "38c45ce2",
   "metadata": {},
   "outputs": [],
   "source": []
  },
  {
   "cell_type": "code",
   "execution_count": 11,
   "id": "45c1f533",
   "metadata": {},
   "outputs": [
    {
     "data": {
      "text/plain": [
       "TITLE               0\n",
       "RESTAURANT_ID       0\n",
       "CUISINES            0\n",
       "TIME                0\n",
       "CITY              112\n",
       "LOCALITY           98\n",
       "RATING              2\n",
       "VOTES            1204\n",
       "COST                0\n",
       "dtype: int64"
      ]
     },
     "execution_count": 11,
     "metadata": {},
     "output_type": "execute_result"
    }
   ],
   "source": [
    "df.isnull().sum()"
   ]
  },
  {
   "cell_type": "markdown",
   "id": "3cbc3e9c",
   "metadata": {},
   "source": [
    "as we can see in the 'CITY','LOCALITY','RATING','VOTES' are having some null values "
   ]
  },
  {
   "cell_type": "code",
   "execution_count": null,
   "id": "ffe61194",
   "metadata": {},
   "outputs": [],
   "source": []
  },
  {
   "cell_type": "code",
   "execution_count": 12,
   "id": "88ef1df3",
   "metadata": {},
   "outputs": [
    {
     "data": {
      "image/png": "[encoded data removed]",
      "text/plain": [
       "<Figure size 640x480 with 2 Axes>"
      ]
     },
     "metadata": {},
     "output_type": "display_data"
    }
   ],
   "source": [
    "sns.heatmap(df.isnull())\n",
    "plt.show()"
   ]
  },
  {
   "cell_type": "markdown",
   "id": "3cde1618",
   "metadata": {},
   "source": [
    "in this  heatmap we can see there is some white lines present in the heatmap that are representing the presence of outliers\n",
    "let's handle this null values"
   ]
  },
  {
   "cell_type": "code",
   "execution_count": null,
   "id": "766df7a9",
   "metadata": {},
   "outputs": [],
   "source": []
  },
  {
   "cell_type": "code",
   "execution_count": 13,
   "id": "f795bbfe",
   "metadata": {},
   "outputs": [
    {
     "data": {
      "text/plain": [
       "TITLE               0\n",
       "RESTAURANT_ID       0\n",
       "CUISINES            0\n",
       "TIME                0\n",
       "CITY              112\n",
       "LOCALITY           98\n",
       "RATING              2\n",
       "VOTES            1204\n",
       "COST                0\n",
       "dtype: int64"
      ]
     },
     "execution_count": 13,
     "metadata": {},
     "output_type": "execute_result"
    }
   ],
   "source": [
    "df.isnull().sum()"
   ]
  },
  {
   "cell_type": "code",
   "execution_count": null,
   "id": "40343cc4",
   "metadata": {},
   "outputs": [],
   "source": []
  },
  {
   "cell_type": "code",
   "execution_count": 14,
   "id": "a8662524",
   "metadata": {},
   "outputs": [],
   "source": [
    "df['CITY']=df['CITY'].fillna(df['CITY'].mode()[0])"
   ]
  },
  {
   "cell_type": "code",
   "execution_count": 15,
   "id": "7e7ce725",
   "metadata": {},
   "outputs": [],
   "source": [
    "df['LOCALITY']=df['LOCALITY'].fillna(df['LOCALITY'].mode()[0])"
   ]
  },
  {
   "cell_type": "code",
   "execution_count": 16,
   "id": "caac9be8",
   "metadata": {},
   "outputs": [],
   "source": [
    "df['RATING']=df['RATING'].fillna(df['RATING'].mode()[0])"
   ]
  },
  {
   "cell_type": "code",
   "execution_count": 17,
   "id": "5f6dda10",
   "metadata": {},
   "outputs": [],
   "source": [
    "df['VOTES']=df['VOTES'].fillna(df['VOTES'].mode()[0])"
   ]
  },
  {
   "cell_type": "code",
   "execution_count": 18,
   "id": "44c50c10",
   "metadata": {},
   "outputs": [
    {
     "data": {
      "text/plain": [
       "TITLE            0\n",
       "RESTAURANT_ID    0\n",
       "CUISINES         0\n",
       "TIME             0\n",
       "CITY             0\n",
       "LOCALITY         0\n",
       "RATING           0\n",
       "VOTES            0\n",
       "COST             0\n",
       "dtype: int64"
      ]
     },
     "execution_count": 18,
     "metadata": {},
     "output_type": "execute_result"
    }
   ],
   "source": [
    "df.isnull().sum()"
   ]
  },
  {
   "cell_type": "markdown",
   "id": "71a119bb",
   "metadata": {},
   "source": [
    "here we have filled the null values"
   ]
  },
  {
   "cell_type": "code",
   "execution_count": null,
   "id": "b764b0d3",
   "metadata": {},
   "outputs": [],
   "source": []
  },
  {
   "cell_type": "code",
   "execution_count": 19,
   "id": "ac82a22c",
   "metadata": {},
   "outputs": [
    {
     "name": "stdout",
     "output_type": "stream",
     "text": [
      "QUICK BITES                 4218\n",
      "CASUAL DINING               3652\n",
      "None                        1003\n",
      "CAFÉ                         607\n",
      "DESSERT PARLOR               382\n",
      "                            ... \n",
      "QUICK BITES,BAR                1\n",
      "MEAT SHOP                      1\n",
      "SWEET SHOP,CONFECTIONERY       1\n",
      "BEVERAGE SHOP,FOOD COURT       1\n",
      "BAR,MICROBREWERY               1\n",
      "Name: TITLE, Length: 113, dtype: int64\n",
      "\n",
      "\n",
      "7264     8\n",
      "4634     7\n",
      "9910     6\n",
      "11971    5\n",
      "12747    5\n",
      "        ..\n",
      "9069     1\n",
      "6573     1\n",
      "7430     1\n",
      "6381     1\n",
      "6134     1\n",
      "Name: RESTAURANT_ID, Length: 11892, dtype: int64\n",
      "\n",
      "\n",
      "South Indian                                  532\n",
      "North Indian                                  526\n",
      "North Indian, Chinese                         501\n",
      "Fast Food                                     286\n",
      "Chinese                                       167\n",
      "                                             ... \n",
      "Italian, Biryani, Fast Food                     1\n",
      "Desserts, Juices, Fast Food                     1\n",
      "Asian, Continental, European, North Indian      1\n",
      "Cafe, Continental, Italian, Lebanese            1\n",
      "Finger Food, Continental, Asian, Chinese        1\n",
      "Name: CUISINES, Length: 4155, dtype: int64\n",
      "\n",
      "\n",
      "11am – 11pm (Mon-Sun)                                 1415\n",
      "12noon – 12midnight (Mon-Sun)                          469\n",
      "12noon – 11pm (Mon-Sun)                                407\n",
      "11am – 12midnight (Mon-Sun)                            310\n",
      "10am – 10pm (Mon-Sun)                                  221\n",
      "                                                      ... \n",
      "10am – 10pm (Mon-Fri),8:30am – 10pm (Sat-Sun)            1\n",
      "12noon – 3:30pm, 6pm – 10:30pm (Mon-Thu),12noon...       1\n",
      "12noon – 5:30pm, 7pm – 11pm (Mon-Sun)                    1\n",
      "12midnight – 11:45pm (Mon-Sun)                           1\n",
      "12noon – 1am (Mon-Fri),11am – 5pm, 7pm – 1am...          1\n",
      "Name: TIME, Length: 2689, dtype: int64\n",
      "\n",
      "\n",
      "Chennai                                                                           2286\n",
      "Bangalore                                                                         2149\n",
      "Hyderabad                                                                         1819\n",
      "Mumbai                                                                            1722\n",
      "New Delhi                                                                         1321\n",
      "                                                                                  ... \n",
      "Gachibowli Hyderabad                                                                 1\n",
      "CPR layout harlur main road opposite to ozone ever green apartment Bangalore -       1\n",
      "ECR NEELANKARAI Chennai 600115                                                       1\n",
      "ward X11                                                                             1\n",
      "Masab Tank                                                                           1\n",
      "Name: CITY, Length: 359, dtype: int64\n",
      "\n",
      "\n",
      "Gachibowli                 264\n",
      "Indiranagar                138\n",
      "Edappally                  122\n",
      "Kakkanad                   121\n",
      "HSR                        120\n",
      "                          ... \n",
      "Huda Market                  1\n",
      "OMR Road Sholinganallur      1\n",
      "Telangana 500053             1\n",
      "1st Lane                     1\n",
      "Near Malviya Nagar           1\n",
      "Name: LOCALITY, Length: 1416, dtype: int64\n",
      "\n",
      "\n",
      "3.9    1240\n",
      "3.8    1190\n",
      "4.0    1099\n",
      "3.7    1086\n",
      "3.6     951\n",
      "4.1     936\n",
      "3.5     771\n",
      "4.2     723\n",
      "NEW     707\n",
      "3.4     575\n",
      "4.3     556\n",
      "-       495\n",
      "3.3     365\n",
      "4.4     362\n",
      "3.2     266\n",
      "4.5     199\n",
      "2.9     186\n",
      "3.1     186\n",
      "3.0     170\n",
      "2.8     146\n",
      "4.6     141\n",
      "2.7      89\n",
      "4.7      69\n",
      "2.6      61\n",
      "2.5      35\n",
      "4.8      32\n",
      "4.9      22\n",
      "2.4      15\n",
      "2.3      10\n",
      "2.1       3\n",
      "2.0       2\n",
      "2.2       2\n",
      "Name: RATING, dtype: int64\n",
      "\n",
      "\n",
      "44 votes      1275\n",
      "28 votes        66\n",
      "29 votes        66\n",
      "38 votes        65\n",
      "35 votes        64\n",
      "              ... \n",
      "1020 votes       1\n",
      "4634 votes       1\n",
      "2297 votes       1\n",
      "1475 votes       1\n",
      "1214 votes       1\n",
      "Name: VOTES, Length: 1847, dtype: int64\n",
      "\n",
      "\n",
      "300      1595\n",
      "400      1357\n",
      "500      1300\n",
      "200      1031\n",
      "600       806\n",
      "         ... \n",
      "8000        1\n",
      "14000       1\n",
      "5200        1\n",
      "80          1\n",
      "70          1\n",
      "Name: COST, Length: 86, dtype: int64\n",
      "\n",
      "\n"
     ]
    }
   ],
   "source": [
    "for i in df.columns:\n",
    "    print(df[i].value_counts())\n",
    "    print('\\n')"
   ]
  },
  {
   "cell_type": "code",
   "execution_count": 20,
   "id": "6e7a5520",
   "metadata": {},
   "outputs": [
    {
     "data": {
      "text/html": [
       "<div>\n",
       "<style scoped>\n",
       "    .dataframe tbody tr th:only-of-type {\n",
       "        vertical-align: middle;\n",
       "    }\n",
       "\n",
       "    .dataframe tbody tr th {\n",
       "        vertical-align: top;\n",
       "    }\n",
       "\n",
       "    .dataframe thead th {\n",
       "        text-align: right;\n",
       "    }\n",
       "</style>\n",
       "<table border=\"1\" class=\"dataframe\">\n",
       "  <thead>\n",
       "    <tr style=\"text-align: right;\">\n",
       "      <th></th>\n",
       "      <th>0</th>\n",
       "    </tr>\n",
       "  </thead>\n",
       "  <tbody>\n",
       "    <tr>\n",
       "      <th>TITLE</th>\n",
       "      <td>113</td>\n",
       "    </tr>\n",
       "    <tr>\n",
       "      <th>RESTAURANT_ID</th>\n",
       "      <td>11892</td>\n",
       "    </tr>\n",
       "    <tr>\n",
       "      <th>CUISINES</th>\n",
       "      <td>4155</td>\n",
       "    </tr>\n",
       "    <tr>\n",
       "      <th>TIME</th>\n",
       "      <td>2689</td>\n",
       "    </tr>\n",
       "    <tr>\n",
       "      <th>CITY</th>\n",
       "      <td>359</td>\n",
       "    </tr>\n",
       "    <tr>\n",
       "      <th>LOCALITY</th>\n",
       "      <td>1416</td>\n",
       "    </tr>\n",
       "    <tr>\n",
       "      <th>RATING</th>\n",
       "      <td>32</td>\n",
       "    </tr>\n",
       "    <tr>\n",
       "      <th>VOTES</th>\n",
       "      <td>1847</td>\n",
       "    </tr>\n",
       "    <tr>\n",
       "      <th>COST</th>\n",
       "      <td>86</td>\n",
       "    </tr>\n",
       "  </tbody>\n",
       "</table>\n",
       "</div>"
      ],
      "text/plain": [
       "                   0\n",
       "TITLE            113\n",
       "RESTAURANT_ID  11892\n",
       "CUISINES        4155\n",
       "TIME            2689\n",
       "CITY             359\n",
       "LOCALITY        1416\n",
       "RATING            32\n",
       "VOTES           1847\n",
       "COST              86"
      ]
     },
     "execution_count": 20,
     "metadata": {},
     "output_type": "execute_result"
    }
   ],
   "source": [
    "df.nunique().to_frame()"
   ]
  },
  {
   "cell_type": "code",
   "execution_count": 21,
   "id": "a5443d50",
   "metadata": {},
   "outputs": [
    {
     "data": {
      "text/plain": [
       "array(['3.6', '4.2', '3.8', '4.1', '4.0', '4.3', '3.9', '3.3', '3.4', '-',\n",
       "       '4.5', '3.5', '4.4', '2.7', '3.7', '4.7', 'NEW', '3.1', '2.5',\n",
       "       '4.6', '2.8', '3.0', '3.2', '2.6', '2.9', '4.9', '4.8', '2.4',\n",
       "       '2.3', '2.0', '2.1', '2.2'], dtype=object)"
      ]
     },
     "execution_count": 21,
     "metadata": {},
     "output_type": "execute_result"
    }
   ],
   "source": [
    "df['RATING'].unique()"
   ]
  },
  {
   "cell_type": "markdown",
   "id": "254857cf",
   "metadata": {},
   "source": [
    "as we can see in the rating feature it contains numeric values but it's datatype is object because we have one string value present in this feature so lets change the datatype of 'RATING' feature "
   ]
  },
  {
   "cell_type": "code",
   "execution_count": 22,
   "id": "81f2ebb1",
   "metadata": {},
   "outputs": [
    {
     "data": {
      "text/html": [
       "<div>\n",
       "<style scoped>\n",
       "    .dataframe tbody tr th:only-of-type {\n",
       "        vertical-align: middle;\n",
       "    }\n",
       "\n",
       "    .dataframe tbody tr th {\n",
       "        vertical-align: top;\n",
       "    }\n",
       "\n",
       "    .dataframe thead th {\n",
       "        text-align: right;\n",
       "    }\n",
       "</style>\n",
       "<table border=\"1\" class=\"dataframe\">\n",
       "  <thead>\n",
       "    <tr style=\"text-align: right;\">\n",
       "      <th></th>\n",
       "      <th>TITLE</th>\n",
       "      <th>RESTAURANT_ID</th>\n",
       "      <th>CUISINES</th>\n",
       "      <th>TIME</th>\n",
       "      <th>CITY</th>\n",
       "      <th>LOCALITY</th>\n",
       "      <th>RATING</th>\n",
       "      <th>VOTES</th>\n",
       "      <th>COST</th>\n",
       "    </tr>\n",
       "  </thead>\n",
       "  <tbody>\n",
       "    <tr>\n",
       "      <th>62</th>\n",
       "      <td>QUICK BITES</td>\n",
       "      <td>7841</td>\n",
       "      <td>North Indian, Beverages</td>\n",
       "      <td>11am – 11pm (Mon-Sun)</td>\n",
       "      <td>Kochi</td>\n",
       "      <td>Kalamassery</td>\n",
       "      <td>NEW</td>\n",
       "      <td>44 votes</td>\n",
       "      <td>200</td>\n",
       "    </tr>\n",
       "    <tr>\n",
       "      <th>69</th>\n",
       "      <td>None</td>\n",
       "      <td>11096</td>\n",
       "      <td>Pizza, Fast Food</td>\n",
       "      <td>11am – 11pm (Mon-Sun)</td>\n",
       "      <td>New Delhi</td>\n",
       "      <td>Kalkaji</td>\n",
       "      <td>NEW</td>\n",
       "      <td>44 votes</td>\n",
       "      <td>200</td>\n",
       "    </tr>\n",
       "    <tr>\n",
       "      <th>111</th>\n",
       "      <td>CASUAL DINING</td>\n",
       "      <td>7095</td>\n",
       "      <td>Gujarati, Rajasthani, North Indian</td>\n",
       "      <td>11:30am – 3:30pm, 7pm – 11pm (Mon-Sun)</td>\n",
       "      <td>Mumbai</td>\n",
       "      <td>Borivali West</td>\n",
       "      <td>NEW</td>\n",
       "      <td>44 votes</td>\n",
       "      <td>800</td>\n",
       "    </tr>\n",
       "    <tr>\n",
       "      <th>117</th>\n",
       "      <td>QUICK BITES</td>\n",
       "      <td>8091</td>\n",
       "      <td>North Indian, Chinese</td>\n",
       "      <td>11am – 11pm (Mon-Sun)</td>\n",
       "      <td>New Delhi</td>\n",
       "      <td>Dwarka</td>\n",
       "      <td>NEW</td>\n",
       "      <td>44 votes</td>\n",
       "      <td>500</td>\n",
       "    </tr>\n",
       "    <tr>\n",
       "      <th>120</th>\n",
       "      <td>QUICK BITES</td>\n",
       "      <td>4993</td>\n",
       "      <td>North Indian, South Indian</td>\n",
       "      <td>7:30am – 9:30pm (Mon-Sat),Closed (Sun)</td>\n",
       "      <td>Bangalore-560066</td>\n",
       "      <td>Whitefield</td>\n",
       "      <td>NEW</td>\n",
       "      <td>44 votes</td>\n",
       "      <td>150</td>\n",
       "    </tr>\n",
       "    <tr>\n",
       "      <th>...</th>\n",
       "      <td>...</td>\n",
       "      <td>...</td>\n",
       "      <td>...</td>\n",
       "      <td>...</td>\n",
       "      <td>...</td>\n",
       "      <td>...</td>\n",
       "      <td>...</td>\n",
       "      <td>...</td>\n",
       "      <td>...</td>\n",
       "    </tr>\n",
       "    <tr>\n",
       "      <th>12602</th>\n",
       "      <td>QUICK BITES</td>\n",
       "      <td>11176</td>\n",
       "      <td>Rolls, North Indian, Biryani</td>\n",
       "      <td>12noon – 12midnight (Mon-Sun)</td>\n",
       "      <td>Mumbai</td>\n",
       "      <td>Mahakali</td>\n",
       "      <td>NEW</td>\n",
       "      <td>44 votes</td>\n",
       "      <td>200</td>\n",
       "    </tr>\n",
       "    <tr>\n",
       "      <th>12613</th>\n",
       "      <td>CASUAL DINING</td>\n",
       "      <td>397</td>\n",
       "      <td>Asian, Thai, Sushi, Healthy Food</td>\n",
       "      <td>12noon – 11pm (Mon-Sun)</td>\n",
       "      <td>Gurgaon</td>\n",
       "      <td>DLF Phase 4</td>\n",
       "      <td>NEW</td>\n",
       "      <td>44 votes</td>\n",
       "      <td>950</td>\n",
       "    </tr>\n",
       "    <tr>\n",
       "      <th>12630</th>\n",
       "      <td>CASUAL DINING</td>\n",
       "      <td>9959</td>\n",
       "      <td>Tex-Mex, Italian, Coffee</td>\n",
       "      <td>8am – 10:30pm (Mon-Sun)</td>\n",
       "      <td>Gurgaon</td>\n",
       "      <td>Golf Course Road</td>\n",
       "      <td>NEW</td>\n",
       "      <td>44 votes</td>\n",
       "      <td>1200</td>\n",
       "    </tr>\n",
       "    <tr>\n",
       "      <th>12658</th>\n",
       "      <td>None</td>\n",
       "      <td>9384</td>\n",
       "      <td>Kerala, South Indian</td>\n",
       "      <td>11am – 5pm (Mon-Sun)</td>\n",
       "      <td>Kochi</td>\n",
       "      <td>Chittoor Road</td>\n",
       "      <td>NEW</td>\n",
       "      <td>44 votes</td>\n",
       "      <td>400</td>\n",
       "    </tr>\n",
       "    <tr>\n",
       "      <th>12660</th>\n",
       "      <td>CASUAL DINING,BAR</td>\n",
       "      <td>1439</td>\n",
       "      <td>North Indian, Continental, Chinese, Beverages</td>\n",
       "      <td>5pm – 1:30am (Mon-Sun)</td>\n",
       "      <td>Mumbai</td>\n",
       "      <td>Bandra West</td>\n",
       "      <td>NEW</td>\n",
       "      <td>44 votes</td>\n",
       "      <td>1200</td>\n",
       "    </tr>\n",
       "  </tbody>\n",
       "</table>\n",
       "<p>707 rows × 9 columns</p>\n",
       "</div>"
      ],
      "text/plain": [
       "                   TITLE  RESTAURANT_ID  \\\n",
       "62           QUICK BITES           7841   \n",
       "69                  None          11096   \n",
       "111        CASUAL DINING           7095   \n",
       "117          QUICK BITES           8091   \n",
       "120          QUICK BITES           4993   \n",
       "...                  ...            ...   \n",
       "12602        QUICK BITES          11176   \n",
       "12613      CASUAL DINING            397   \n",
       "12630      CASUAL DINING           9959   \n",
       "12658               None           9384   \n",
       "12660  CASUAL DINING,BAR           1439   \n",
       "\n",
       "                                            CUISINES  \\\n",
       "62                           North Indian, Beverages   \n",
       "69                                  Pizza, Fast Food   \n",
       "111               Gujarati, Rajasthani, North Indian   \n",
       "117                            North Indian, Chinese   \n",
       "120                       North Indian, South Indian   \n",
       "...                                              ...   \n",
       "12602                   Rolls, North Indian, Biryani   \n",
       "12613               Asian, Thai, Sushi, Healthy Food   \n",
       "12630                       Tex-Mex, Italian, Coffee   \n",
       "12658                           Kerala, South Indian   \n",
       "12660  North Indian, Continental, Chinese, Beverages   \n",
       "\n",
       "                                         TIME              CITY  \\\n",
       "62                      11am – 11pm (Mon-Sun)             Kochi   \n",
       "69                      11am – 11pm (Mon-Sun)         New Delhi   \n",
       "111    11:30am – 3:30pm, 7pm – 11pm (Mon-Sun)            Mumbai   \n",
       "117                     11am – 11pm (Mon-Sun)         New Delhi   \n",
       "120    7:30am – 9:30pm (Mon-Sat),Closed (Sun)  Bangalore-560066   \n",
       "...                                       ...               ...   \n",
       "12602           12noon – 12midnight (Mon-Sun)            Mumbai   \n",
       "12613                 12noon – 11pm (Mon-Sun)           Gurgaon   \n",
       "12630                 8am – 10:30pm (Mon-Sun)           Gurgaon   \n",
       "12658                    11am – 5pm (Mon-Sun)             Kochi   \n",
       "12660                  5pm – 1:30am (Mon-Sun)            Mumbai   \n",
       "\n",
       "               LOCALITY RATING     VOTES  COST  \n",
       "62          Kalamassery    NEW  44 votes   200  \n",
       "69              Kalkaji    NEW  44 votes   200  \n",
       "111       Borivali West    NEW  44 votes   800  \n",
       "117              Dwarka    NEW  44 votes   500  \n",
       "120          Whitefield    NEW  44 votes   150  \n",
       "...                 ...    ...       ...   ...  \n",
       "12602          Mahakali    NEW  44 votes   200  \n",
       "12613       DLF Phase 4    NEW  44 votes   950  \n",
       "12630  Golf Course Road    NEW  44 votes  1200  \n",
       "12658     Chittoor Road    NEW  44 votes   400  \n",
       "12660       Bandra West    NEW  44 votes  1200  \n",
       "\n",
       "[707 rows x 9 columns]"
      ]
     },
     "execution_count": 22,
     "metadata": {},
     "output_type": "execute_result"
    }
   ],
   "source": [
    "df[df['RATING']=='NEW']"
   ]
  },
  {
   "cell_type": "markdown",
   "id": "cc8020e7",
   "metadata": {},
   "source": [
    "because RATINGS are the numbers of the satisfaction  level of  customers it is independent feature so that,s why we can not change this new value with the mean or median we will keep this feature constant  "
   ]
  },
  {
   "cell_type": "code",
   "execution_count": 23,
   "id": "9c034135",
   "metadata": {},
   "outputs": [
    {
     "data": {
      "text/html": [
       "<div>\n",
       "<style scoped>\n",
       "    .dataframe tbody tr th:only-of-type {\n",
       "        vertical-align: middle;\n",
       "    }\n",
       "\n",
       "    .dataframe tbody tr th {\n",
       "        vertical-align: top;\n",
       "    }\n",
       "\n",
       "    .dataframe thead th {\n",
       "        text-align: right;\n",
       "    }\n",
       "</style>\n",
       "<table border=\"1\" class=\"dataframe\">\n",
       "  <thead>\n",
       "    <tr style=\"text-align: right;\">\n",
       "      <th></th>\n",
       "      <th>RESTAURANT_ID</th>\n",
       "      <th>COST</th>\n",
       "    </tr>\n",
       "  </thead>\n",
       "  <tbody>\n",
       "    <tr>\n",
       "      <th>count</th>\n",
       "      <td>12690.000000</td>\n",
       "      <td>12690.000000</td>\n",
       "    </tr>\n",
       "    <tr>\n",
       "      <th>mean</th>\n",
       "      <td>7759.134121</td>\n",
       "      <td>655.252246</td>\n",
       "    </tr>\n",
       "    <tr>\n",
       "      <th>std</th>\n",
       "      <td>4504.874150</td>\n",
       "      <td>627.003540</td>\n",
       "    </tr>\n",
       "    <tr>\n",
       "      <th>min</th>\n",
       "      <td>0.000000</td>\n",
       "      <td>20.000000</td>\n",
       "    </tr>\n",
       "    <tr>\n",
       "      <th>25%</th>\n",
       "      <td>3863.250000</td>\n",
       "      <td>300.000000</td>\n",
       "    </tr>\n",
       "    <tr>\n",
       "      <th>50%</th>\n",
       "      <td>7740.000000</td>\n",
       "      <td>500.000000</td>\n",
       "    </tr>\n",
       "    <tr>\n",
       "      <th>75%</th>\n",
       "      <td>11688.750000</td>\n",
       "      <td>800.000000</td>\n",
       "    </tr>\n",
       "    <tr>\n",
       "      <th>max</th>\n",
       "      <td>15573.000000</td>\n",
       "      <td>14000.000000</td>\n",
       "    </tr>\n",
       "  </tbody>\n",
       "</table>\n",
       "</div>"
      ],
      "text/plain": [
       "       RESTAURANT_ID          COST\n",
       "count   12690.000000  12690.000000\n",
       "mean     7759.134121    655.252246\n",
       "std      4504.874150    627.003540\n",
       "min         0.000000     20.000000\n",
       "25%      3863.250000    300.000000\n",
       "50%      7740.000000    500.000000\n",
       "75%     11688.750000    800.000000\n",
       "max     15573.000000  14000.000000"
      ]
     },
     "execution_count": 23,
     "metadata": {},
     "output_type": "execute_result"
    }
   ],
   "source": [
    "df.describe()"
   ]
  },
  {
   "cell_type": "markdown",
   "id": "c1516822",
   "metadata": {},
   "source": [
    "in this dataset we have only two numeric features('RESTAURANT_ID','COST') as we can see in the above row into the describe method."
   ]
  },
  {
   "cell_type": "code",
   "execution_count": null,
   "id": "e51ccb68",
   "metadata": {},
   "outputs": [],
   "source": []
  },
  {
   "cell_type": "markdown",
   "id": "1b918f19",
   "metadata": {},
   "source": [
    "# separating features"
   ]
  },
  {
   "cell_type": "code",
   "execution_count": null,
   "id": "2ff0fe88",
   "metadata": {},
   "outputs": [],
   "source": []
  },
  {
   "cell_type": "code",
   "execution_count": 24,
   "id": "5b6a2223",
   "metadata": {},
   "outputs": [],
   "source": [
    "object_col=[]\n",
    "numerical_col=[]"
   ]
  },
  {
   "cell_type": "code",
   "execution_count": 25,
   "id": "63b6d77e",
   "metadata": {},
   "outputs": [
    {
     "name": "stdout",
     "output_type": "stream",
     "text": [
      "numerical_columns ['RESTAURANT_ID', 'COST']\n",
      "\n",
      "\n",
      "categorical_col ['TITLE', 'CUISINES', 'TIME', 'CITY', 'LOCALITY', 'RATING', 'VOTES']\n"
     ]
    }
   ],
   "source": [
    "for i in df.columns:\n",
    "    if df.dtypes[i]!='object':\n",
    "        numerical_col.append(i)\n",
    "    else:\n",
    "        object_col.append(i)\n",
    "        \n",
    "print('numerical_columns',numerical_col)\n",
    "print('\\n')\n",
    "print('categorical_col',object_col)"
   ]
  },
  {
   "cell_type": "code",
   "execution_count": null,
   "id": "980604a7",
   "metadata": {},
   "outputs": [],
   "source": []
  },
  {
   "cell_type": "markdown",
   "id": "5e868a25",
   "metadata": {},
   "source": [
    "# Data Analysis"
   ]
  },
  {
   "cell_type": "code",
   "execution_count": null,
   "id": "629dd5f5",
   "metadata": {},
   "outputs": [],
   "source": []
  },
  {
   "cell_type": "code",
   "execution_count": 26,
   "id": "a8da770f",
   "metadata": {},
   "outputs": [
    {
     "data": {
      "text/plain": [
       "<Axes: xlabel='COST', ylabel='Density'>"
      ]
     },
     "execution_count": 26,
     "metadata": {},
     "output_type": "execute_result"
    },
    {
     "data": {
      "image/png": "[encoded data removed]",
      "text/plain": [
       "<Figure size 640x480 with 1 Axes>"
      ]
     },
     "metadata": {},
     "output_type": "display_data"
    }
   ],
   "source": [
    "sns.distplot(df['COST'])"
   ]
  },
  {
   "cell_type": "code",
   "execution_count": 27,
   "id": "009f834f",
   "metadata": {},
   "outputs": [
    {
     "data": {
      "text/html": [
       "<div>\n",
       "<style scoped>\n",
       "    .dataframe tbody tr th:only-of-type {\n",
       "        vertical-align: middle;\n",
       "    }\n",
       "\n",
       "    .dataframe tbody tr th {\n",
       "        vertical-align: top;\n",
       "    }\n",
       "\n",
       "    .dataframe thead th {\n",
       "        text-align: right;\n",
       "    }\n",
       "</style>\n",
       "<table border=\"1\" class=\"dataframe\">\n",
       "  <thead>\n",
       "    <tr style=\"text-align: right;\">\n",
       "      <th></th>\n",
       "      <th>TITLE</th>\n",
       "      <th>RESTAURANT_ID</th>\n",
       "      <th>CUISINES</th>\n",
       "      <th>TIME</th>\n",
       "      <th>CITY</th>\n",
       "      <th>LOCALITY</th>\n",
       "      <th>RATING</th>\n",
       "      <th>VOTES</th>\n",
       "      <th>COST</th>\n",
       "    </tr>\n",
       "  </thead>\n",
       "  <tbody>\n",
       "    <tr>\n",
       "      <th>0</th>\n",
       "      <td>CASUAL DINING</td>\n",
       "      <td>9438</td>\n",
       "      <td>Malwani, Goan, North Indian</td>\n",
       "      <td>11am – 4pm, 7:30pm – 11:30pm (Mon-Sun)</td>\n",
       "      <td>Thane</td>\n",
       "      <td>Dombivali East</td>\n",
       "      <td>3.6</td>\n",
       "      <td>49 votes</td>\n",
       "      <td>1200</td>\n",
       "    </tr>\n",
       "    <tr>\n",
       "      <th>1</th>\n",
       "      <td>CASUAL DINING,BAR</td>\n",
       "      <td>13198</td>\n",
       "      <td>Asian, Modern Indian, Japanese</td>\n",
       "      <td>6pm – 11pm (Mon-Sun)</td>\n",
       "      <td>Chennai</td>\n",
       "      <td>Ramapuram</td>\n",
       "      <td>4.2</td>\n",
       "      <td>30 votes</td>\n",
       "      <td>1500</td>\n",
       "    </tr>\n",
       "    <tr>\n",
       "      <th>2</th>\n",
       "      <td>CASUAL DINING</td>\n",
       "      <td>10915</td>\n",
       "      <td>North Indian, Chinese, Biryani, Hyderabadi</td>\n",
       "      <td>11am – 3:30pm, 7pm – 11pm (Mon-Sun)</td>\n",
       "      <td>Chennai</td>\n",
       "      <td>Saligramam</td>\n",
       "      <td>3.8</td>\n",
       "      <td>221 votes</td>\n",
       "      <td>800</td>\n",
       "    </tr>\n",
       "    <tr>\n",
       "      <th>3</th>\n",
       "      <td>QUICK BITES</td>\n",
       "      <td>6346</td>\n",
       "      <td>Tibetan, Chinese</td>\n",
       "      <td>11:30am – 1am (Mon-Sun)</td>\n",
       "      <td>Mumbai</td>\n",
       "      <td>Bandra West</td>\n",
       "      <td>4.1</td>\n",
       "      <td>24 votes</td>\n",
       "      <td>800</td>\n",
       "    </tr>\n",
       "    <tr>\n",
       "      <th>4</th>\n",
       "      <td>DESSERT PARLOR</td>\n",
       "      <td>15387</td>\n",
       "      <td>Desserts</td>\n",
       "      <td>11am – 1am (Mon-Sun)</td>\n",
       "      <td>Mumbai</td>\n",
       "      <td>Lower Parel</td>\n",
       "      <td>3.8</td>\n",
       "      <td>165 votes</td>\n",
       "      <td>300</td>\n",
       "    </tr>\n",
       "  </tbody>\n",
       "</table>\n",
       "</div>"
      ],
      "text/plain": [
       "               TITLE  RESTAURANT_ID  \\\n",
       "0      CASUAL DINING           9438   \n",
       "1  CASUAL DINING,BAR          13198   \n",
       "2      CASUAL DINING          10915   \n",
       "3        QUICK BITES           6346   \n",
       "4     DESSERT PARLOR          15387   \n",
       "\n",
       "                                     CUISINES  \\\n",
       "0                 Malwani, Goan, North Indian   \n",
       "1              Asian, Modern Indian, Japanese   \n",
       "2  North Indian, Chinese, Biryani, Hyderabadi   \n",
       "3                            Tibetan, Chinese   \n",
       "4                                    Desserts   \n",
       "\n",
       "                                     TIME     CITY        LOCALITY RATING  \\\n",
       "0  11am – 4pm, 7:30pm – 11:30pm (Mon-Sun)    Thane  Dombivali East    3.6   \n",
       "1                    6pm – 11pm (Mon-Sun)  Chennai       Ramapuram    4.2   \n",
       "2     11am – 3:30pm, 7pm – 11pm (Mon-Sun)  Chennai      Saligramam    3.8   \n",
       "3                 11:30am – 1am (Mon-Sun)   Mumbai     Bandra West    4.1   \n",
       "4                    11am – 1am (Mon-Sun)   Mumbai     Lower Parel    3.8   \n",
       "\n",
       "       VOTES  COST  \n",
       "0   49 votes  1200  \n",
       "1   30 votes  1500  \n",
       "2  221 votes   800  \n",
       "3   24 votes   800  \n",
       "4  165 votes   300  "
      ]
     },
     "execution_count": 27,
     "metadata": {},
     "output_type": "execute_result"
    }
   ],
   "source": [
    "df.head()"
   ]
  },
  {
   "cell_type": "code",
   "execution_count": 28,
   "id": "9896346b",
   "metadata": {},
   "outputs": [
    {
     "data": {
      "text/plain": [
       "<seaborn.axisgrid.PairGrid at 0x10c1594b0d0>"
      ]
     },
     "execution_count": 28,
     "metadata": {},
     "output_type": "execute_result"
    },
    {
     "data": {
      "image/png": "[encoded data removed]",
      "text/plain": [
       "<Figure size 500x500 with 6 Axes>"
      ]
     },
     "metadata": {},
     "output_type": "display_data"
    }
   ],
   "source": [
    "sns.pairplot(df)"
   ]
  },
  {
   "cell_type": "code",
   "execution_count": null,
   "id": "30d8062a",
   "metadata": {},
   "outputs": [],
   "source": []
  },
  {
   "cell_type": "markdown",
   "id": "1e44e81f",
   "metadata": {},
   "source": [
    "# Label Encoding using (Label Encoder)"
   ]
  },
  {
   "cell_type": "code",
   "execution_count": null,
   "id": "267c0a7e",
   "metadata": {},
   "outputs": [],
   "source": []
  },
  {
   "cell_type": "code",
   "execution_count": 29,
   "id": "2ab9366b",
   "metadata": {},
   "outputs": [
    {
     "data": {
      "text/html": [
       "<div>\n",
       "<style scoped>\n",
       "    .dataframe tbody tr th:only-of-type {\n",
       "        vertical-align: middle;\n",
       "    }\n",
       "\n",
       "    .dataframe tbody tr th {\n",
       "        vertical-align: top;\n",
       "    }\n",
       "\n",
       "    .dataframe thead th {\n",
       "        text-align: right;\n",
       "    }\n",
       "</style>\n",
       "<table border=\"1\" class=\"dataframe\">\n",
       "  <thead>\n",
       "    <tr style=\"text-align: right;\">\n",
       "      <th></th>\n",
       "      <th>TITLE</th>\n",
       "      <th>RESTAURANT_ID</th>\n",
       "      <th>CUISINES</th>\n",
       "      <th>TIME</th>\n",
       "      <th>CITY</th>\n",
       "      <th>LOCALITY</th>\n",
       "      <th>RATING</th>\n",
       "      <th>VOTES</th>\n",
       "      <th>COST</th>\n",
       "    </tr>\n",
       "  </thead>\n",
       "  <tbody>\n",
       "    <tr>\n",
       "      <th>0</th>\n",
       "      <td>31.0</td>\n",
       "      <td>9438</td>\n",
       "      <td>2627.0</td>\n",
       "      <td>739.0</td>\n",
       "      <td>320.0</td>\n",
       "      <td>285.0</td>\n",
       "      <td>17.0</td>\n",
       "      <td>1278.0</td>\n",
       "      <td>1200</td>\n",
       "    </tr>\n",
       "    <tr>\n",
       "      <th>1</th>\n",
       "      <td>33.0</td>\n",
       "      <td>13198</td>\n",
       "      <td>289.0</td>\n",
       "      <td>1885.0</td>\n",
       "      <td>67.0</td>\n",
       "      <td>1046.0</td>\n",
       "      <td>23.0</td>\n",
       "      <td>950.0</td>\n",
       "      <td>1500</td>\n",
       "    </tr>\n",
       "    <tr>\n",
       "      <th>2</th>\n",
       "      <td>31.0</td>\n",
       "      <td>10915</td>\n",
       "      <td>2976.0</td>\n",
       "      <td>661.0</td>\n",
       "      <td>67.0</td>\n",
       "      <td>1101.0</td>\n",
       "      <td>19.0</td>\n",
       "      <td>712.0</td>\n",
       "      <td>800</td>\n",
       "    </tr>\n",
       "    <tr>\n",
       "      <th>3</th>\n",
       "      <td>95.0</td>\n",
       "      <td>6346</td>\n",
       "      <td>4130.0</td>\n",
       "      <td>275.0</td>\n",
       "      <td>222.0</td>\n",
       "      <td>136.0</td>\n",
       "      <td>22.0</td>\n",
       "      <td>787.0</td>\n",
       "      <td>800</td>\n",
       "    </tr>\n",
       "    <tr>\n",
       "      <th>4</th>\n",
       "      <td>50.0</td>\n",
       "      <td>15387</td>\n",
       "      <td>1766.0</td>\n",
       "      <td>615.0</td>\n",
       "      <td>222.0</td>\n",
       "      <td>620.0</td>\n",
       "      <td>19.0</td>\n",
       "      <td>470.0</td>\n",
       "      <td>300</td>\n",
       "    </tr>\n",
       "    <tr>\n",
       "      <th>...</th>\n",
       "      <td>...</td>\n",
       "      <td>...</td>\n",
       "      <td>...</td>\n",
       "      <td>...</td>\n",
       "      <td>...</td>\n",
       "      <td>...</td>\n",
       "      <td>...</td>\n",
       "      <td>...</td>\n",
       "      <td>...</td>\n",
       "    </tr>\n",
       "    <tr>\n",
       "      <th>12685</th>\n",
       "      <td>95.0</td>\n",
       "      <td>13228</td>\n",
       "      <td>2934.0</td>\n",
       "      <td>1144.0</td>\n",
       "      <td>131.0</td>\n",
       "      <td>342.0</td>\n",
       "      <td>19.0</td>\n",
       "      <td>1349.0</td>\n",
       "      <td>500</td>\n",
       "    </tr>\n",
       "    <tr>\n",
       "      <th>12686</th>\n",
       "      <td>33.0</td>\n",
       "      <td>9686</td>\n",
       "      <td>2143.0</td>\n",
       "      <td>1177.0</td>\n",
       "      <td>222.0</td>\n",
       "      <td>133.0</td>\n",
       "      <td>24.0</td>\n",
       "      <td>191.0</td>\n",
       "      <td>1800</td>\n",
       "    </tr>\n",
       "    <tr>\n",
       "      <th>12687</th>\n",
       "      <td>71.0</td>\n",
       "      <td>11133</td>\n",
       "      <td>2088.0</td>\n",
       "      <td>1137.0</td>\n",
       "      <td>239.0</td>\n",
       "      <td>1342.0</td>\n",
       "      <td>21.0</td>\n",
       "      <td>1428.0</td>\n",
       "      <td>1300</td>\n",
       "    </tr>\n",
       "    <tr>\n",
       "      <th>12688</th>\n",
       "      <td>31.0</td>\n",
       "      <td>6134</td>\n",
       "      <td>3506.0</td>\n",
       "      <td>1837.0</td>\n",
       "      <td>67.0</td>\n",
       "      <td>631.0</td>\n",
       "      <td>16.0</td>\n",
       "      <td>996.0</td>\n",
       "      <td>400</td>\n",
       "    </tr>\n",
       "    <tr>\n",
       "      <th>12689</th>\n",
       "      <td>31.0</td>\n",
       "      <td>6430</td>\n",
       "      <td>2946.0</td>\n",
       "      <td>835.0</td>\n",
       "      <td>131.0</td>\n",
       "      <td>1333.0</td>\n",
       "      <td>15.0</td>\n",
       "      <td>1505.0</td>\n",
       "      <td>600</td>\n",
       "    </tr>\n",
       "  </tbody>\n",
       "</table>\n",
       "<p>12690 rows × 9 columns</p>\n",
       "</div>"
      ],
      "text/plain": [
       "       TITLE  RESTAURANT_ID  CUISINES    TIME   CITY  LOCALITY  RATING  \\\n",
       "0       31.0           9438    2627.0   739.0  320.0     285.0    17.0   \n",
       "1       33.0          13198     289.0  1885.0   67.0    1046.0    23.0   \n",
       "2       31.0          10915    2976.0   661.0   67.0    1101.0    19.0   \n",
       "3       95.0           6346    4130.0   275.0  222.0     136.0    22.0   \n",
       "4       50.0          15387    1766.0   615.0  222.0     620.0    19.0   \n",
       "...      ...            ...       ...     ...    ...       ...     ...   \n",
       "12685   95.0          13228    2934.0  1144.0  131.0     342.0    19.0   \n",
       "12686   33.0           9686    2143.0  1177.0  222.0     133.0    24.0   \n",
       "12687   71.0          11133    2088.0  1137.0  239.0    1342.0    21.0   \n",
       "12688   31.0           6134    3506.0  1837.0   67.0     631.0    16.0   \n",
       "12689   31.0           6430    2946.0   835.0  131.0    1333.0    15.0   \n",
       "\n",
       "        VOTES  COST  \n",
       "0      1278.0  1200  \n",
       "1       950.0  1500  \n",
       "2       712.0   800  \n",
       "3       787.0   800  \n",
       "4       470.0   300  \n",
       "...       ...   ...  \n",
       "12685  1349.0   500  \n",
       "12686   191.0  1800  \n",
       "12687  1428.0  1300  \n",
       "12688   996.0   400  \n",
       "12689  1505.0   600  \n",
       "\n",
       "[12690 rows x 9 columns]"
      ]
     },
     "execution_count": 29,
     "metadata": {},
     "output_type": "execute_result"
    }
   ],
   "source": [
    "lb=OrdinalEncoder()\n",
    "for i in df.columns:\n",
    "    if df[i].dtypes=='object':\n",
    "        df[i]=lb.fit_transform(df[i].values.reshape(-1,1))\n",
    "df"
   ]
  },
  {
   "cell_type": "markdown",
   "id": "c68fa3e5",
   "metadata": {},
   "source": [
    "# spliting the features"
   ]
  },
  {
   "cell_type": "code",
   "execution_count": null,
   "id": "a6b8843a",
   "metadata": {},
   "outputs": [],
   "source": []
  },
  {
   "cell_type": "code",
   "execution_count": 30,
   "id": "8302d7ad",
   "metadata": {},
   "outputs": [
    {
     "name": "stdout",
     "output_type": "stream",
     "text": [
      "       TITLE  RESTAURANT_ID  CUISINES    TIME   CITY  LOCALITY  RATING   VOTES\n",
      "0       31.0           9438    2627.0   739.0  320.0     285.0    17.0  1278.0\n",
      "1       33.0          13198     289.0  1885.0   67.0    1046.0    23.0   950.0\n",
      "2       31.0          10915    2976.0   661.0   67.0    1101.0    19.0   712.0\n",
      "3       95.0           6346    4130.0   275.0  222.0     136.0    22.0   787.0\n",
      "4       50.0          15387    1766.0   615.0  222.0     620.0    19.0   470.0\n",
      "...      ...            ...       ...     ...    ...       ...     ...     ...\n",
      "12685   95.0          13228    2934.0  1144.0  131.0     342.0    19.0  1349.0\n",
      "12686   33.0           9686    2143.0  1177.0  222.0     133.0    24.0   191.0\n",
      "12687   71.0          11133    2088.0  1137.0  239.0    1342.0    21.0  1428.0\n",
      "12688   31.0           6134    3506.0  1837.0   67.0     631.0    16.0   996.0\n",
      "12689   31.0           6430    2946.0   835.0  131.0    1333.0    15.0  1505.0\n",
      "\n",
      "[12690 rows x 8 columns] 0        1200\n",
      "1        1500\n",
      "2         800\n",
      "3         800\n",
      "4         300\n",
      "         ... \n",
      "12685     500\n",
      "12686    1800\n",
      "12687    1300\n",
      "12688     400\n",
      "12689     600\n",
      "Name: COST, Length: 12690, dtype: int64\n"
     ]
    }
   ],
   "source": [
    "x=df.drop('COST',axis=1)\n",
    "y=df['COST']\n",
    "print(x,y)"
   ]
  },
  {
   "cell_type": "code",
   "execution_count": null,
   "id": "0c26ef0a",
   "metadata": {},
   "outputs": [],
   "source": []
  },
  {
   "cell_type": "markdown",
   "id": "e46b1333",
   "metadata": {},
   "source": [
    "# scaling the features using (Standard Scaler)"
   ]
  },
  {
   "cell_type": "code",
   "execution_count": null,
   "id": "603dabc8",
   "metadata": {},
   "outputs": [],
   "source": []
  },
  {
   "cell_type": "code",
   "execution_count": 31,
   "id": "59744b39",
   "metadata": {},
   "outputs": [
    {
     "data": {
      "text/html": [
       "<div>\n",
       "<style scoped>\n",
       "    .dataframe tbody tr th:only-of-type {\n",
       "        vertical-align: middle;\n",
       "    }\n",
       "\n",
       "    .dataframe tbody tr th {\n",
       "        vertical-align: top;\n",
       "    }\n",
       "\n",
       "    .dataframe thead th {\n",
       "        text-align: right;\n",
       "    }\n",
       "</style>\n",
       "<table border=\"1\" class=\"dataframe\">\n",
       "  <thead>\n",
       "    <tr style=\"text-align: right;\">\n",
       "      <th></th>\n",
       "      <th>TITLE</th>\n",
       "      <th>RESTAURANT_ID</th>\n",
       "      <th>CUISINES</th>\n",
       "      <th>TIME</th>\n",
       "      <th>CITY</th>\n",
       "      <th>LOCALITY</th>\n",
       "      <th>RATING</th>\n",
       "      <th>VOTES</th>\n",
       "    </tr>\n",
       "  </thead>\n",
       "  <tbody>\n",
       "    <tr>\n",
       "      <th>0</th>\n",
       "      <td>-0.868887</td>\n",
       "      <td>0.372692</td>\n",
       "      <td>0.325408</td>\n",
       "      <td>-0.584658</td>\n",
       "      <td>2.117762</td>\n",
       "      <td>-0.920549</td>\n",
       "      <td>-0.290547</td>\n",
       "      <td>0.593884</td>\n",
       "    </tr>\n",
       "    <tr>\n",
       "      <th>1</th>\n",
       "      <td>-0.807839</td>\n",
       "      <td>1.207377</td>\n",
       "      <td>-1.616381</td>\n",
       "      <td>0.934369</td>\n",
       "      <td>-0.897082</td>\n",
       "      <td>0.986239</td>\n",
       "      <td>0.680153</td>\n",
       "      <td>-0.085891</td>\n",
       "    </tr>\n",
       "    <tr>\n",
       "      <th>2</th>\n",
       "      <td>-0.868887</td>\n",
       "      <td>0.700572</td>\n",
       "      <td>0.615265</td>\n",
       "      <td>-0.688048</td>\n",
       "      <td>-0.897082</td>\n",
       "      <td>1.124048</td>\n",
       "      <td>0.033020</td>\n",
       "      <td>-0.579143</td>\n",
       "    </tr>\n",
       "    <tr>\n",
       "      <th>3</th>\n",
       "      <td>1.084647</td>\n",
       "      <td>-0.313702</td>\n",
       "      <td>1.573701</td>\n",
       "      <td>-1.199692</td>\n",
       "      <td>0.949957</td>\n",
       "      <td>-1.293888</td>\n",
       "      <td>0.518369</td>\n",
       "      <td>-0.423707</td>\n",
       "    </tr>\n",
       "    <tr>\n",
       "      <th>4</th>\n",
       "      <td>-0.288931</td>\n",
       "      <td>1.693314</td>\n",
       "      <td>-0.389682</td>\n",
       "      <td>-0.749021</td>\n",
       "      <td>0.949957</td>\n",
       "      <td>-0.081161</td>\n",
       "      <td>0.033020</td>\n",
       "      <td>-1.080685</td>\n",
       "    </tr>\n",
       "    <tr>\n",
       "      <th>...</th>\n",
       "      <td>...</td>\n",
       "      <td>...</td>\n",
       "      <td>...</td>\n",
       "      <td>...</td>\n",
       "      <td>...</td>\n",
       "      <td>...</td>\n",
       "      <td>...</td>\n",
       "      <td>...</td>\n",
       "    </tr>\n",
       "    <tr>\n",
       "      <th>12685</th>\n",
       "      <td>1.084647</td>\n",
       "      <td>1.214036</td>\n",
       "      <td>0.580382</td>\n",
       "      <td>-0.047829</td>\n",
       "      <td>-0.134433</td>\n",
       "      <td>-0.777728</td>\n",
       "      <td>0.033020</td>\n",
       "      <td>0.741031</td>\n",
       "    </tr>\n",
       "    <tr>\n",
       "      <th>12686</th>\n",
       "      <td>-0.807839</td>\n",
       "      <td>0.427746</td>\n",
       "      <td>-0.076570</td>\n",
       "      <td>-0.004088</td>\n",
       "      <td>0.949957</td>\n",
       "      <td>-1.301405</td>\n",
       "      <td>0.841936</td>\n",
       "      <td>-1.658909</td>\n",
       "    </tr>\n",
       "    <tr>\n",
       "      <th>12687</th>\n",
       "      <td>0.352072</td>\n",
       "      <td>0.748966</td>\n",
       "      <td>-0.122250</td>\n",
       "      <td>-0.057108</td>\n",
       "      <td>1.152535</td>\n",
       "      <td>1.727906</td>\n",
       "      <td>0.356586</td>\n",
       "      <td>0.904757</td>\n",
       "    </tr>\n",
       "    <tr>\n",
       "      <th>12688</th>\n",
       "      <td>-0.868887</td>\n",
       "      <td>-0.360764</td>\n",
       "      <td>1.055448</td>\n",
       "      <td>0.870745</td>\n",
       "      <td>-0.897082</td>\n",
       "      <td>-0.053599</td>\n",
       "      <td>-0.452330</td>\n",
       "      <td>0.009443</td>\n",
       "    </tr>\n",
       "    <tr>\n",
       "      <th>12689</th>\n",
       "      <td>-0.868887</td>\n",
       "      <td>-0.295055</td>\n",
       "      <td>0.590349</td>\n",
       "      <td>-0.457410</td>\n",
       "      <td>-0.134433</td>\n",
       "      <td>1.705355</td>\n",
       "      <td>-0.614114</td>\n",
       "      <td>1.064339</td>\n",
       "    </tr>\n",
       "  </tbody>\n",
       "</table>\n",
       "<p>12690 rows × 8 columns</p>\n",
       "</div>"
      ],
      "text/plain": [
       "          TITLE  RESTAURANT_ID  CUISINES      TIME      CITY  LOCALITY  \\\n",
       "0     -0.868887       0.372692  0.325408 -0.584658  2.117762 -0.920549   \n",
       "1     -0.807839       1.207377 -1.616381  0.934369 -0.897082  0.986239   \n",
       "2     -0.868887       0.700572  0.615265 -0.688048 -0.897082  1.124048   \n",
       "3      1.084647      -0.313702  1.573701 -1.199692  0.949957 -1.293888   \n",
       "4     -0.288931       1.693314 -0.389682 -0.749021  0.949957 -0.081161   \n",
       "...         ...            ...       ...       ...       ...       ...   \n",
       "12685  1.084647       1.214036  0.580382 -0.047829 -0.134433 -0.777728   \n",
       "12686 -0.807839       0.427746 -0.076570 -0.004088  0.949957 -1.301405   \n",
       "12687  0.352072       0.748966 -0.122250 -0.057108  1.152535  1.727906   \n",
       "12688 -0.868887      -0.360764  1.055448  0.870745 -0.897082 -0.053599   \n",
       "12689 -0.868887      -0.295055  0.590349 -0.457410 -0.134433  1.705355   \n",
       "\n",
       "         RATING     VOTES  \n",
       "0     -0.290547  0.593884  \n",
       "1      0.680153 -0.085891  \n",
       "2      0.033020 -0.579143  \n",
       "3      0.518369 -0.423707  \n",
       "4      0.033020 -1.080685  \n",
       "...         ...       ...  \n",
       "12685  0.033020  0.741031  \n",
       "12686  0.841936 -1.658909  \n",
       "12687  0.356586  0.904757  \n",
       "12688 -0.452330  0.009443  \n",
       "12689 -0.614114  1.064339  \n",
       "\n",
       "[12690 rows x 8 columns]"
      ]
     },
     "execution_count": 31,
     "metadata": {},
     "output_type": "execute_result"
    }
   ],
   "source": [
    "std=StandardScaler()\n",
    "x=pd.DataFrame(std.fit_transform(x),columns=x.columns)\n",
    "x\n"
   ]
  },
  {
   "cell_type": "code",
   "execution_count": null,
   "id": "f79eca01",
   "metadata": {},
   "outputs": [],
   "source": []
  },
  {
   "cell_type": "markdown",
   "id": "0326707b",
   "metadata": {},
   "source": [
    "# checking variance inflation factor"
   ]
  },
  {
   "cell_type": "code",
   "execution_count": null,
   "id": "fbe30c96",
   "metadata": {},
   "outputs": [],
   "source": []
  },
  {
   "cell_type": "code",
   "execution_count": 32,
   "id": "ccdc2135",
   "metadata": {},
   "outputs": [
    {
     "data": {
      "text/html": [
       "<div>\n",
       "<style scoped>\n",
       "    .dataframe tbody tr th:only-of-type {\n",
       "        vertical-align: middle;\n",
       "    }\n",
       "\n",
       "    .dataframe tbody tr th {\n",
       "        vertical-align: top;\n",
       "    }\n",
       "\n",
       "    .dataframe thead th {\n",
       "        text-align: right;\n",
       "    }\n",
       "</style>\n",
       "<table border=\"1\" class=\"dataframe\">\n",
       "  <thead>\n",
       "    <tr style=\"text-align: right;\">\n",
       "      <th></th>\n",
       "      <th>variables</th>\n",
       "      <th>VIF VALUES</th>\n",
       "    </tr>\n",
       "  </thead>\n",
       "  <tbody>\n",
       "    <tr>\n",
       "      <th>0</th>\n",
       "      <td>TITLE</td>\n",
       "      <td>1.067022</td>\n",
       "    </tr>\n",
       "    <tr>\n",
       "      <th>1</th>\n",
       "      <td>RESTAURANT_ID</td>\n",
       "      <td>1.004661</td>\n",
       "    </tr>\n",
       "    <tr>\n",
       "      <th>2</th>\n",
       "      <td>CUISINES</td>\n",
       "      <td>1.078877</td>\n",
       "    </tr>\n",
       "    <tr>\n",
       "      <th>3</th>\n",
       "      <td>TIME</td>\n",
       "      <td>1.013456</td>\n",
       "    </tr>\n",
       "    <tr>\n",
       "      <th>4</th>\n",
       "      <td>CITY</td>\n",
       "      <td>1.004052</td>\n",
       "    </tr>\n",
       "    <tr>\n",
       "      <th>5</th>\n",
       "      <td>LOCALITY</td>\n",
       "      <td>1.003385</td>\n",
       "    </tr>\n",
       "    <tr>\n",
       "      <th>6</th>\n",
       "      <td>RATING</td>\n",
       "      <td>1.005901</td>\n",
       "    </tr>\n",
       "    <tr>\n",
       "      <th>7</th>\n",
       "      <td>VOTES</td>\n",
       "      <td>1.000791</td>\n",
       "    </tr>\n",
       "  </tbody>\n",
       "</table>\n",
       "</div>"
      ],
      "text/plain": [
       "       variables  VIF VALUES\n",
       "0          TITLE    1.067022\n",
       "1  RESTAURANT_ID    1.004661\n",
       "2       CUISINES    1.078877\n",
       "3           TIME    1.013456\n",
       "4           CITY    1.004052\n",
       "5       LOCALITY    1.003385\n",
       "6         RATING    1.005901\n",
       "7          VOTES    1.000791"
      ]
     },
     "execution_count": 32,
     "metadata": {},
     "output_type": "execute_result"
    }
   ],
   "source": [
    "vif=pd.DataFrame()\n",
    "vif['variables']=x.columns\n",
    "vif['VIF VALUES']=[variance_inflation_factor(x.values,i) for i in range(len(x.columns))]\n",
    "vif"
   ]
  },
  {
   "cell_type": "code",
   "execution_count": null,
   "id": "41ef7616",
   "metadata": {},
   "outputs": [],
   "source": []
  },
  {
   "cell_type": "markdown",
   "id": "f7e5fa42",
   "metadata": {},
   "source": [
    "# modeling"
   ]
  },
  {
   "cell_type": "code",
   "execution_count": null,
   "id": "696e1add",
   "metadata": {},
   "outputs": [],
   "source": []
  },
  {
   "cell_type": "markdown",
   "id": "81f5ea09",
   "metadata": {},
   "source": [
    "# creating train test split"
   ]
  },
  {
   "cell_type": "code",
   "execution_count": null,
   "id": "9a72bc5c",
   "metadata": {},
   "outputs": [],
   "source": []
  },
  {
   "cell_type": "code",
   "execution_count": 33,
   "id": "45d0990d",
   "metadata": {},
   "outputs": [],
   "source": [
    "from sklearn.model_selection import train_test_split\n",
    "x_train,x_test,y_train,y_test=train_test_split(x,y,test_size=.30,random_state=42)"
   ]
  },
  {
   "cell_type": "code",
   "execution_count": null,
   "id": "ac8e040d",
   "metadata": {},
   "outputs": [],
   "source": []
  },
  {
   "cell_type": "markdown",
   "id": "4ad45b9a",
   "metadata": {},
   "source": [
    "# Linear Regression"
   ]
  },
  {
   "cell_type": "code",
   "execution_count": null,
   "id": "9b7545ab",
   "metadata": {},
   "outputs": [],
   "source": []
  },
  {
   "cell_type": "code",
   "execution_count": 34,
   "id": "dacb75bf",
   "metadata": {},
   "outputs": [
    {
     "name": "stdout",
     "output_type": "stream",
     "text": [
      "r2_score on training data 0.12604745034961784\n",
      "r2_score on test data 0.13065634354292344\n",
      "mean_squared_error 301823.9222137875\n",
      "mean_absolute_error 341.1978492998976\n",
      "sqrt mean_squared_error 549.3850400345713\n"
     ]
    }
   ],
   "source": [
    "lr=LinearRegression()\n",
    "lr.fit(x_train,y_train)\n",
    "lr_pred=lr.predict(x_test)\n",
    "lr_train=lr.predict(x_train)\n",
    "print('r2_score on training data',r2_score(y_train,lr_train))\n",
    "print('r2_score on test data',r2_score(y_test,lr_pred))\n",
    "print('mean_squared_error',mean_squared_error(y_test,lr_pred))\n",
    "print('mean_absolute_error',mean_absolute_error(y_test,lr_pred))\n",
    "print('sqrt mean_squared_error',np.sqrt(mean_squared_error(y_test,lr_pred)))"
   ]
  },
  {
   "cell_type": "code",
   "execution_count": null,
   "id": "356c32fd",
   "metadata": {},
   "outputs": [],
   "source": []
  },
  {
   "cell_type": "markdown",
   "id": "983b280c",
   "metadata": {},
   "source": [
    "# svr(support vector regressor)"
   ]
  },
  {
   "cell_type": "code",
   "execution_count": 36,
   "id": "d7e85c36",
   "metadata": {},
   "outputs": [
    {
     "name": "stdout",
     "output_type": "stream",
     "text": [
      "r2_score on training data 0.03203300778880813\n",
      "r2_score on testing data 0.04406761858923347\n",
      "mean_squared_error 331886.31283560704\n",
      "mean_absolute_error 309.60990542585705\n",
      "sqrt mean_squared_error 576.0957497114581\n"
     ]
    }
   ],
   "source": [
    "svr=SVR()\n",
    "svr.fit(x_train,y_train)\n",
    "svr_pred=svr.predict(x_test)\n",
    "svr_train=svr.predict(x_train)\n",
    "print('r2_score on training data',r2_score(y_train,svr_train))\n",
    "print('r2_score on testing data',r2_score(y_test,svr_pred))\n",
    "print('mean_squared_error',mean_squared_error(y_test,svr_pred))\n",
    "print('mean_absolute_error',mean_absolute_error(y_test,svr_pred))\n",
    "print('sqrt mean_squared_error',np.sqrt(mean_squared_error(y_test,svr_pred)))"
   ]
  },
  {
   "cell_type": "code",
   "execution_count": null,
   "id": "7426b41f",
   "metadata": {},
   "outputs": [],
   "source": []
  },
  {
   "cell_type": "markdown",
   "id": "4cdcacd7",
   "metadata": {},
   "source": [
    "# kneighbors Regressor"
   ]
  },
  {
   "cell_type": "code",
   "execution_count": 38,
   "id": "d3acb990",
   "metadata": {},
   "outputs": [
    {
     "name": "stdout",
     "output_type": "stream",
     "text": [
      "r2_score on training data 0.5795139623352931\n",
      "r2_score training data 0.339474019048433\n",
      "mean_squared_error 229325.35460992908\n",
      "sqrt mean_squared_erroe 478.87926934659544\n"
     ]
    }
   ],
   "source": [
    "knn=KNeighborsRegressor()\n",
    "knn.fit(x_train,y_train)\n",
    "knn_pred=knn.predict(x_test)\n",
    "knn_train=knn.predict(x_train)\n",
    "print('r2_score on training data',r2_score(y_train,knn_train))\n",
    "print('r2_score training data',r2_score(y_test,knn_pred))\n",
    "print('mean_squared_error',mean_squared_error(y_test,knn_pred))\n",
    "print('sqrt mean_squared_erroe',np.sqrt(mean_squared_error(y_test,knn_pred)))"
   ]
  },
  {
   "cell_type": "code",
   "execution_count": null,
   "id": "418a823a",
   "metadata": {},
   "outputs": [],
   "source": []
  },
  {
   "cell_type": "markdown",
   "id": "873dbc19",
   "metadata": {},
   "source": [
    "# decision Tree regressor"
   ]
  },
  {
   "cell_type": "code",
   "execution_count": 59,
   "id": "dc0c8770",
   "metadata": {},
   "outputs": [
    {
     "name": "stdout",
     "output_type": "stream",
     "text": [
      "r2_score on training data 1.0\n",
      "r2_score on testing data 0.38417780976917415\n",
      "mean_squared_error 213804.8255844497\n",
      "mean_absolute_error 266.3212503283425\n",
      "np sqrt mean_squared_error 462.3903389826064\n"
     ]
    }
   ],
   "source": [
    "dtr=DecisionTreeRegressor()\n",
    "dtr.fit(x_train,y_train)\n",
    "dtr_pred=dtr.predict(x_test)\n",
    "dtr_train=dtr.predict(x_train)\n",
    "print('r2_score on training data',r2_score(y_train,dtr_train))\n",
    "print('r2_score on testing data',r2_score(y_test,dtr_pred))\n",
    "print('mean_squared_error',mean_squared_error(y_test,dtr_pred))\n",
    "print('mean_absolute_error',mean_absolute_error(y_test,dtr_pred))\n",
    "print('np sqrt mean_squared_error',np.sqrt(mean_squared_error(y_test,dtr_pred)))"
   ]
  },
  {
   "cell_type": "code",
   "execution_count": null,
   "id": "1271f2e6",
   "metadata": {},
   "outputs": [],
   "source": []
  },
  {
   "cell_type": "markdown",
   "id": "df234ed1",
   "metadata": {},
   "source": [
    "# Random Forest Regressor"
   ]
  },
  {
   "cell_type": "code",
   "execution_count": 44,
   "id": "ff38ab1c",
   "metadata": {},
   "outputs": [
    {
     "name": "stdout",
     "output_type": "stream",
     "text": [
      "r2_score on training data 0.9588619398988244\n",
      "r2_score on testing data 0.6984450972492827\n",
      "mean_squared_error 104695.63196900448\n",
      "mean_absolute_error 189.77074862096137\n",
      "np sqrt mean_squared_error 323.5670440094363\n"
     ]
    }
   ],
   "source": [
    "rfr=RandomForestRegressor()\n",
    "rfr.fit(x_train,y_train)\n",
    "rfr_pred=rfr.predict(x_test)\n",
    "rfr_train=rfr.predict(x_train)\n",
    "print('r2_score on training data',r2_score(y_train,rfr_train))\n",
    "print('r2_score on testing data',r2_score(y_test,rfr_pred))\n",
    "print('mean_squared_error',mean_squared_error(y_test,rfr_pred))\n",
    "print('mean_absolute_error',mean_absolute_error(y_test,rfr_pred))\n",
    "print('np sqrt mean_squared_error',np.sqrt(mean_squared_error(y_test,rfr_pred)))"
   ]
  },
  {
   "cell_type": "code",
   "execution_count": null,
   "id": "26e99941",
   "metadata": {},
   "outputs": [],
   "source": []
  },
  {
   "cell_type": "markdown",
   "id": "a78564ef",
   "metadata": {},
   "source": [
    "# Extra Trees Regressor"
   ]
  },
  {
   "cell_type": "code",
   "execution_count": null,
   "id": "54be97e3",
   "metadata": {},
   "outputs": [],
   "source": []
  },
  {
   "cell_type": "code",
   "execution_count": 45,
   "id": "2bdb98a5",
   "metadata": {},
   "outputs": [
    {
     "name": "stdout",
     "output_type": "stream",
     "text": [
      "r2_score on training data 0.9999992819320301\n",
      "r2_score on testing data 0.7190948805190631\n",
      "mean_squared_error 97526.31689658524\n",
      "mean_absolute_error 193.23763330706595\n",
      "sqrt mean_squared_error 312.2920378373186\n"
     ]
    }
   ],
   "source": [
    "etr=ExtraTreesRegressor()\n",
    "etr.fit(x_train,y_train)\n",
    "etr_pred=etr.predict(x_test)\n",
    "etr_train=etr.predict(x_train)\n",
    "print('r2_score on training data',r2_score(y_train,etr_train))\n",
    "print('r2_score on testing data',r2_score(y_test,etr_pred))\n",
    "print('mean_squared_error',mean_squared_error(y_test,etr_pred))\n",
    "print('mean_absolute_error',mean_absolute_error(y_test,etr_pred))\n",
    "print('sqrt mean_squared_error',np.sqrt(mean_squared_error(y_test,etr_pred)))"
   ]
  },
  {
   "cell_type": "code",
   "execution_count": null,
   "id": "e8d81858",
   "metadata": {},
   "outputs": [],
   "source": []
  },
  {
   "cell_type": "markdown",
   "id": "ba0b572b",
   "metadata": {},
   "source": [
    "# AdaBoost Regressor"
   ]
  },
  {
   "cell_type": "code",
   "execution_count": null,
   "id": "0b3ce6f3",
   "metadata": {},
   "outputs": [],
   "source": []
  },
  {
   "cell_type": "code",
   "execution_count": 47,
   "id": "774eb8b4",
   "metadata": {},
   "outputs": [
    {
     "name": "stdout",
     "output_type": "stream",
     "text": [
      "r2_score on train data -0.47115454304369697\n",
      "r2_score on test data -0.7752641284664896\n",
      "mean_squared_error 616346.8016812436\n",
      "mean_absolute_error 671.0589031481318\n",
      "sqrt mean_squared_error 785.0775768554619\n"
     ]
    }
   ],
   "source": [
    "abr=AdaBoostRegressor()\n",
    "abr.fit(x_train,y_train)\n",
    "abr_pred=abr.predict(x_test)\n",
    "abr_train=abr.predict(x_train)\n",
    "print('r2_score on train data',r2_score(y_train,abr_train))\n",
    "print('r2_score on test data',r2_score(y_test,abr_pred))\n",
    "print('mean_squared_error',mean_squared_error(y_test,abr_pred))\n",
    "print('mean_absolute_error',mean_absolute_error(y_test,abr_pred))\n",
    "print('sqrt mean_squared_error',np.sqrt(mean_squared_error(y_test,abr_pred)))"
   ]
  },
  {
   "cell_type": "code",
   "execution_count": null,
   "id": "f77d092f",
   "metadata": {},
   "outputs": [],
   "source": []
  },
  {
   "cell_type": "code",
   "execution_count": 49,
   "id": "93da2e0c",
   "metadata": {},
   "outputs": [
    {
     "name": "stdout",
     "output_type": "stream",
     "text": [
      "r2_score on training data 0.7305452623697087\n",
      "r2_score on test data 0.7279370864342647\n",
      "mean_squared_error 94456.4270428714\n",
      "sqrt mean_squared_error 307.3376433873199\n"
     ]
    }
   ],
   "source": [
    "gbr=GradientBoostingRegressor()\n",
    "gbr.fit(x_train,y_train)\n",
    "gbr_pred=gbr.predict(x_test)\n",
    "gbr_train=gbr.predict(x_train)\n",
    "print('r2_score on training data',r2_score(y_train,gbr_train))\n",
    "print('r2_score on test data',r2_score(y_test,gbr_pred))\n",
    "print('mean_squared_error',mean_squared_error(y_test,gbr_pred))\n",
    "print('sqrt mean_squared_error',np.sqrt(mean_squared_error(y_test,gbr_pred)))"
   ]
  },
  {
   "cell_type": "code",
   "execution_count": null,
   "id": "3450b1e9",
   "metadata": {},
   "outputs": [],
   "source": []
  },
  {
   "cell_type": "markdown",
   "id": "de376c3b",
   "metadata": {},
   "source": [
    "# cross validation score"
   ]
  },
  {
   "cell_type": "code",
   "execution_count": null,
   "id": "e9f7e906",
   "metadata": {},
   "outputs": [],
   "source": []
  },
  {
   "cell_type": "code",
   "execution_count": 54,
   "id": "9b9b1d9e",
   "metadata": {},
   "outputs": [
    {
     "name": "stdout",
     "output_type": "stream",
     "text": [
      "[0.10904359 0.11696751 0.14671702 0.12539729 0.14067632]\n",
      "0.12776034956822604\n",
      "difference between the cross validation score and the r2_score -12.64537861327968\n"
     ]
    }
   ],
   "source": [
    "score1=cross_val_score(lr,x,y,cv=5,scoring='r2')\n",
    "print(score1)\n",
    "print(score1.mean())\n",
    "print('difference between the cross validation score and the r2_score',r2_score(y_test,lr_pred)-score1.mean()*100)\n"
   ]
  },
  {
   "cell_type": "code",
   "execution_count": null,
   "id": "8b6306f7",
   "metadata": {},
   "outputs": [],
   "source": []
  },
  {
   "cell_type": "code",
   "execution_count": 55,
   "id": "70ca856e",
   "metadata": {},
   "outputs": [
    {
     "name": "stdout",
     "output_type": "stream",
     "text": [
      "[0.03297037 0.04616263 0.05579143 0.02707478 0.04269235]\n",
      "0.04093831065419225\n",
      "difference between the cross validation score and r2_score 0.003129307935041223\n"
     ]
    }
   ],
   "source": [
    "score2=cross_val_score(svr,x,y)\n",
    "print(score2)\n",
    "print(score2.mean())\n",
    "print('difference between the cross validation score and r2_score',(r2_score(y_test,svr_pred)-score2.mean()))"
   ]
  },
  {
   "cell_type": "code",
   "execution_count": null,
   "id": "c80b8109",
   "metadata": {},
   "outputs": [],
   "source": []
  },
  {
   "cell_type": "code",
   "execution_count": 56,
   "id": "22c71ac5",
   "metadata": {},
   "outputs": [
    {
     "name": "stdout",
     "output_type": "stream",
     "text": [
      "[0.31268869 0.37476546 0.34488701 0.35206747 0.40343602]\n",
      "0.35756892901401055\n",
      "difference between the cross validation score and the r2_score -1.8094909965577555\n"
     ]
    }
   ],
   "source": [
    "score3=cross_val_score(knn,x,y)\n",
    "print(score3)\n",
    "print(score3.mean())\n",
    "print('difference between the cross validation score and the r2_score',(r2_score(y_test,knn_pred)-score3.mean())*100)"
   ]
  },
  {
   "cell_type": "code",
   "execution_count": null,
   "id": "42b8ee2d",
   "metadata": {},
   "outputs": [],
   "source": []
  },
  {
   "cell_type": "code",
   "execution_count": 60,
   "id": "40a4b7d1",
   "metadata": {},
   "outputs": [
    {
     "name": "stdout",
     "output_type": "stream",
     "text": [
      "[0.5136502  0.33644226 0.46122383 0.44022906 0.47630188]\n",
      "0.4455694452749638\n",
      "difference between the cross validation score and the r2_score -6.139163550578964\n"
     ]
    }
   ],
   "source": [
    "score4=cross_val_score(dtr,x,y)\n",
    "print(score4)\n",
    "print(score4.mean())\n",
    "print('difference between the cross validation score and the r2_score',(r2_score(y_test,dtr_pred)-score4.mean())*100)"
   ]
  },
  {
   "cell_type": "code",
   "execution_count": null,
   "id": "1db1057c",
   "metadata": {},
   "outputs": [],
   "source": []
  },
  {
   "cell_type": "code",
   "execution_count": 62,
   "id": "e8ddcb30",
   "metadata": {},
   "outputs": [
    {
     "name": "stdout",
     "output_type": "stream",
     "text": [
      "[0.64852138 0.69566935 0.72815375 0.67937764 0.7580308 ]\n",
      "0.7019505843107646\n",
      "difference between the cross validation score and r2_score -0.35054870614819045\n"
     ]
    }
   ],
   "source": [
    "score5=cross_val_score(rfr,x,y)\n",
    "print(score5)\n",
    "print(score5.mean())\n",
    "print('difference between the cross validation score and r2_score',(r2_score(y_test,rfr_pred)-score5.mean())*100)\n"
   ]
  },
  {
   "cell_type": "code",
   "execution_count": null,
   "id": "2484d5bf",
   "metadata": {},
   "outputs": [],
   "source": []
  },
  {
   "cell_type": "code",
   "execution_count": 64,
   "id": "b595770e",
   "metadata": {},
   "outputs": [
    {
     "name": "stdout",
     "output_type": "stream",
     "text": [
      "[0.64823308 0.74158694 0.72893631 0.69607119 0.74027588]\n",
      "0.7110206803312729\n",
      "difference between the cross validation score and the r2_score 0.8074200187790259\n"
     ]
    }
   ],
   "source": [
    "score6=cross_val_score(etr,x,y)\n",
    "print(score6)\n",
    "print(score6.mean())\n",
    "print('difference between the cross validation score and the r2_score',(r2_score(y_test,etr_pred)-score6.mean())*100)"
   ]
  },
  {
   "cell_type": "code",
   "execution_count": null,
   "id": "99bf93ed",
   "metadata": {},
   "outputs": [],
   "source": []
  },
  {
   "cell_type": "code",
   "execution_count": 65,
   "id": "750c4817",
   "metadata": {},
   "outputs": [
    {
     "name": "stdout",
     "output_type": "stream",
     "text": [
      "[ 0.1809034  -0.1757173  -0.64633406 -0.45620961 -0.56571262]\n",
      "-0.332614038774277\n",
      "difference between the cross validation score and the r2_score -44.26500896922126\n"
     ]
    }
   ],
   "source": [
    "score7=cross_val_score(abr,x,y)\n",
    "print(score7)\n",
    "print(score7.mean())\n",
    "print('difference between the cross validation score and the r2_score',(r2_score(y_test,abr_pred)-score7.mean())*100)"
   ]
  },
  {
   "cell_type": "code",
   "execution_count": null,
   "id": "e4f48b2f",
   "metadata": {},
   "outputs": [],
   "source": []
  },
  {
   "cell_type": "code",
   "execution_count": 63,
   "id": "9067cd29",
   "metadata": {},
   "outputs": [
    {
     "name": "stdout",
     "output_type": "stream",
     "text": [
      "[0.62600027 0.71909551 0.71374758 0.71165088 0.73330498]\n",
      "0.7007598446985734\n",
      "difference between the cross validation score and the r2_score 0.02717724173569125\n"
     ]
    }
   ],
   "source": [
    "score8=cross_val_score(gbr,x,y)\n",
    "print(score8)\n",
    "print(score8.mean())\n",
    "print('difference between the cross validation score and the r2_score',(r2_score(y_test,gbr_pred)-score8.mean()))"
   ]
  },
  {
   "cell_type": "code",
   "execution_count": null,
   "id": "a6a43e56",
   "metadata": {},
   "outputs": [],
   "source": []
  },
  {
   "cell_type": "markdown",
   "id": "6c2bef6d",
   "metadata": {},
   "source": [
    "here Extra Trees Regressor model is giving high r2_score it means it is our best performing model"
   ]
  },
  {
   "cell_type": "code",
   "execution_count": null,
   "id": "6becce3f",
   "metadata": {},
   "outputs": [],
   "source": []
  },
  {
   "cell_type": "markdown",
   "id": "981ebcb5",
   "metadata": {},
   "source": [
    "# Hyper Parameter tunning"
   ]
  },
  {
   "cell_type": "code",
   "execution_count": null,
   "id": "7af8b674",
   "metadata": {},
   "outputs": [],
   "source": []
  },
  {
   "cell_type": "code",
   "execution_count": 74,
   "id": "543f1da4",
   "metadata": {},
   "outputs": [],
   "source": [
    "param={'criterion':['squared_error','absolute_error','friedman_mse','poisson'],\n",
    "      'n_estimators':[100,150,200,250,300,350],\n",
    "      'ccp_alpha':[0.00001,0.0001,0.0001,0.000001],\n",
    "      'max_depth':[2,4,5,7,8]}\n",
    "\n",
    "model=ExtraTreesRegressor()"
   ]
  },
  {
   "cell_type": "code",
   "execution_count": null,
   "id": "f81a5f14",
   "metadata": {},
   "outputs": [],
   "source": []
  },
  {
   "cell_type": "code",
   "execution_count": 75,
   "id": "8f6aaa43",
   "metadata": {},
   "outputs": [],
   "source": [
    "grid=RandomizedSearchCV(model,param,cv=5)\n"
   ]
  },
  {
   "cell_type": "code",
   "execution_count": null,
   "id": "24a334e0",
   "metadata": {},
   "outputs": [],
   "source": []
  },
  {
   "cell_type": "code",
   "execution_count": 83,
   "id": "b2b88fb7",
   "metadata": {},
   "outputs": [
    {
     "name": "stdout",
     "output_type": "stream",
     "text": [
      "r2_score 0.7165789613996966\n",
      "mean_squared_error 98399.80872106647\n",
      "mean_absolute_error 194.20533490937748\n",
      "sqrt mean_squared_error 313.68743793952996\n"
     ]
    }
   ],
   "source": [
    "final_model=ExtraTreesRegressor()\n",
    "final_model.fit(x_train,y_train)\n",
    "final_pred=final_model.predict(x_test)\n",
    "print('r2_score',r2_score(y_test,final_pred))\n",
    "print('mean_squared_error',mean_squared_error(y_test,final_pred))\n",
    "print('mean_absolute_error',mean_absolute_error(y_test,final_pred))\n",
    "print('sqrt mean_squared_error',np.sqrt(mean_squared_error(y_test,final_pred)))"
   ]
  },
  {
   "cell_type": "code",
   "execution_count": null,
   "id": "dbb464e3",
   "metadata": {},
   "outputs": [],
   "source": []
  },
  {
   "cell_type": "markdown",
   "id": "08aef9a1",
   "metadata": {},
   "source": [
    "# Saving model"
   ]
  },
  {
   "cell_type": "code",
   "execution_count": null,
   "id": "08b5ba95",
   "metadata": {},
   "outputs": [],
   "source": []
  },
  {
   "cell_type": "code",
   "execution_count": 114,
   "id": "ac7490a2",
   "metadata": {},
   "outputs": [],
   "source": [
    "import joblib"
   ]
  },
  {
   "cell_type": "code",
   "execution_count": null,
   "id": "8e407d54",
   "metadata": {},
   "outputs": [],
   "source": []
  },
  {
   "cell_type": "code",
   "execution_count": 115,
   "id": "e7bfb674",
   "metadata": {},
   "outputs": [
    {
     "data": {
      "text/plain": [
       "['restaurant_analysis.pkl']"
      ]
     },
     "execution_count": 115,
     "metadata": {},
     "output_type": "execute_result"
    }
   ],
   "source": [
    "joblib.dump(final_model,'restaurant_analysis.pkl')"
   ]
  },
  {
   "cell_type": "code",
   "execution_count": null,
   "id": "de121bfc",
   "metadata": {},
   "outputs": [],
   "source": []
  },
  {
   "cell_type": "code",
   "execution_count": 116,
   "id": "0829c8b9",
   "metadata": {},
   "outputs": [
    {
     "data": {
      "text/plain": [
       "array([ 355. ,  345.5,  735. , ...,  398.5,  584.5, 1019.5])"
      ]
     },
     "execution_count": 116,
     "metadata": {},
     "output_type": "execute_result"
    }
   ],
   "source": [
    "score=joblib.load('restaurant_analysis.pkl')\n",
    "score.predict(x_test)\n"
   ]
  },
  {
   "cell_type": "code",
   "execution_count": null,
   "id": "ce4ea88b",
   "metadata": {},
   "outputs": [],
   "source": []
  },
  {
   "cell_type": "code",
   "execution_count": null,
   "id": "7f1d82ae",
   "metadata": {},
   "outputs": [],
   "source": [
    "\n"
   ]
  },
  {
   "cell_type": "code",
   "execution_count": null,
   "id": "8b7b8135",
   "metadata": {},
   "outputs": [],
   "source": []
  },
  {
   "cell_type": "code",
   "execution_count": null,
   "id": "7f30655c",
   "metadata": {},
   "outputs": [],
   "source": []
  },
  {
   "cell_type": "markdown",
   "id": "c496b2c9",
   "metadata": {},
   "source": [
    "# Test file"
   ]
  },
  {
   "cell_type": "code",
   "execution_count": null,
   "id": "e5e49c46",
   "metadata": {},
   "outputs": [],
   "source": []
  },
  {
   "cell_type": "code",
   "execution_count": 84,
   "id": "0b3dd95d",
   "metadata": {},
   "outputs": [
    {
     "data": {
      "text/html": [
       "<div>\n",
       "<style scoped>\n",
       "    .dataframe tbody tr th:only-of-type {\n",
       "        vertical-align: middle;\n",
       "    }\n",
       "\n",
       "    .dataframe tbody tr th {\n",
       "        vertical-align: top;\n",
       "    }\n",
       "\n",
       "    .dataframe thead th {\n",
       "        text-align: right;\n",
       "    }\n",
       "</style>\n",
       "<table border=\"1\" class=\"dataframe\">\n",
       "  <thead>\n",
       "    <tr style=\"text-align: right;\">\n",
       "      <th></th>\n",
       "      <th>TITLE</th>\n",
       "      <th>RESTAURANT_ID</th>\n",
       "      <th>CUISINES</th>\n",
       "      <th>TIME</th>\n",
       "      <th>CITY</th>\n",
       "      <th>LOCALITY</th>\n",
       "      <th>RATING</th>\n",
       "      <th>VOTES</th>\n",
       "    </tr>\n",
       "  </thead>\n",
       "  <tbody>\n",
       "    <tr>\n",
       "      <th>0</th>\n",
       "      <td>CASUAL DINING</td>\n",
       "      <td>4085</td>\n",
       "      <td>North Indian, Chinese, Mughlai, Kebab</td>\n",
       "      <td>12noon – 12midnight (Mon-Sun)</td>\n",
       "      <td>Noida</td>\n",
       "      <td>Sector 18</td>\n",
       "      <td>4.3</td>\n",
       "      <td>564 votes</td>\n",
       "    </tr>\n",
       "    <tr>\n",
       "      <th>1</th>\n",
       "      <td>QUICK BITES</td>\n",
       "      <td>12680</td>\n",
       "      <td>South Indian, Fast Food, Pizza, North Indian</td>\n",
       "      <td>7am – 12:30AM (Mon-Sun)</td>\n",
       "      <td>Mumbai</td>\n",
       "      <td>Grant Road</td>\n",
       "      <td>4.2</td>\n",
       "      <td>61 votes</td>\n",
       "    </tr>\n",
       "    <tr>\n",
       "      <th>2</th>\n",
       "      <td>CASUAL DINING</td>\n",
       "      <td>1411</td>\n",
       "      <td>North Indian, Seafood, Biryani, Chinese</td>\n",
       "      <td>11am – 11:30pm (Mon-Sun)</td>\n",
       "      <td>Mumbai</td>\n",
       "      <td>Marine Lines</td>\n",
       "      <td>3.8</td>\n",
       "      <td>350 votes</td>\n",
       "    </tr>\n",
       "    <tr>\n",
       "      <th>3</th>\n",
       "      <td>None</td>\n",
       "      <td>204</td>\n",
       "      <td>Biryani</td>\n",
       "      <td>9am – 10pm (Mon, Wed, Thu, Fri, Sat, Sun), 10:...</td>\n",
       "      <td>Faridabad</td>\n",
       "      <td>NIT</td>\n",
       "      <td>3.8</td>\n",
       "      <td>1445 votes</td>\n",
       "    </tr>\n",
       "    <tr>\n",
       "      <th>4</th>\n",
       "      <td>QUICK BITES</td>\n",
       "      <td>13453</td>\n",
       "      <td>South Indian, Kerala</td>\n",
       "      <td>11am – 10pm (Mon-Sun)</td>\n",
       "      <td>Kochi</td>\n",
       "      <td>Kaloor</td>\n",
       "      <td>3.6</td>\n",
       "      <td>23 votes</td>\n",
       "    </tr>\n",
       "    <tr>\n",
       "      <th>...</th>\n",
       "      <td>...</td>\n",
       "      <td>...</td>\n",
       "      <td>...</td>\n",
       "      <td>...</td>\n",
       "      <td>...</td>\n",
       "      <td>...</td>\n",
       "      <td>...</td>\n",
       "      <td>...</td>\n",
       "    </tr>\n",
       "    <tr>\n",
       "      <th>4226</th>\n",
       "      <td>CASUAL DINING</td>\n",
       "      <td>9057</td>\n",
       "      <td>North Indian, Mughlai, Chinese</td>\n",
       "      <td>11:30am – 11:30pm (Mon-Sun)</td>\n",
       "      <td>New Delhi</td>\n",
       "      <td>Punjabi Bagh</td>\n",
       "      <td>3.9</td>\n",
       "      <td>287 votes</td>\n",
       "    </tr>\n",
       "    <tr>\n",
       "      <th>4227</th>\n",
       "      <td>None</td>\n",
       "      <td>1247</td>\n",
       "      <td>Biryani, North Indian, Sandwich, Salad, Wraps</td>\n",
       "      <td>11am – 1am (Mon-Sun)</td>\n",
       "      <td>Bangalore</td>\n",
       "      <td>HSR Layout</td>\n",
       "      <td>4.3</td>\n",
       "      <td>469 votes</td>\n",
       "    </tr>\n",
       "    <tr>\n",
       "      <th>4228</th>\n",
       "      <td>QUICK BITES</td>\n",
       "      <td>8617</td>\n",
       "      <td>Continental, North Indian</td>\n",
       "      <td>9:30am – 10:30pm (Mon-Sun)</td>\n",
       "      <td>Faridabad</td>\n",
       "      <td>Sector 86</td>\n",
       "      <td>3.7</td>\n",
       "      <td>53 votes</td>\n",
       "    </tr>\n",
       "    <tr>\n",
       "      <th>4229</th>\n",
       "      <td>QUICK BITES</td>\n",
       "      <td>6485</td>\n",
       "      <td>Rolls, Beverages</td>\n",
       "      <td>11am – 11:30pm (Mon, Tue, Wed, Thu, Sat, Sun),...</td>\n",
       "      <td>Kochi</td>\n",
       "      <td>Kochi</td>\n",
       "      <td>-</td>\n",
       "      <td>NaN</td>\n",
       "    </tr>\n",
       "    <tr>\n",
       "      <th>4230</th>\n",
       "      <td>QUICK BITES</td>\n",
       "      <td>2421</td>\n",
       "      <td>Mughlai</td>\n",
       "      <td>5pm – 1am (Mon-Sun)</td>\n",
       "      <td>Bandra West</td>\n",
       "      <td>Perry Cross Road</td>\n",
       "      <td>3.7</td>\n",
       "      <td>63 votes</td>\n",
       "    </tr>\n",
       "  </tbody>\n",
       "</table>\n",
       "<p>4231 rows × 8 columns</p>\n",
       "</div>"
      ],
      "text/plain": [
       "              TITLE  RESTAURANT_ID  \\\n",
       "0     CASUAL DINING           4085   \n",
       "1       QUICK BITES          12680   \n",
       "2     CASUAL DINING           1411   \n",
       "3              None            204   \n",
       "4       QUICK BITES          13453   \n",
       "...             ...            ...   \n",
       "4226  CASUAL DINING           9057   \n",
       "4227           None           1247   \n",
       "4228    QUICK BITES           8617   \n",
       "4229    QUICK BITES           6485   \n",
       "4230    QUICK BITES           2421   \n",
       "\n",
       "                                           CUISINES  \\\n",
       "0             North Indian, Chinese, Mughlai, Kebab   \n",
       "1      South Indian, Fast Food, Pizza, North Indian   \n",
       "2           North Indian, Seafood, Biryani, Chinese   \n",
       "3                                           Biryani   \n",
       "4                              South Indian, Kerala   \n",
       "...                                             ...   \n",
       "4226                 North Indian, Mughlai, Chinese   \n",
       "4227  Biryani, North Indian, Sandwich, Salad, Wraps   \n",
       "4228                      Continental, North Indian   \n",
       "4229                               Rolls, Beverages   \n",
       "4230                                        Mughlai   \n",
       "\n",
       "                                                   TIME         CITY  \\\n",
       "0                         12noon – 12midnight (Mon-Sun)        Noida   \n",
       "1                               7am – 12:30AM (Mon-Sun)       Mumbai   \n",
       "2                              11am – 11:30pm (Mon-Sun)       Mumbai   \n",
       "3     9am – 10pm (Mon, Wed, Thu, Fri, Sat, Sun), 10:...    Faridabad   \n",
       "4                                 11am – 10pm (Mon-Sun)        Kochi   \n",
       "...                                                 ...          ...   \n",
       "4226                        11:30am – 11:30pm (Mon-Sun)    New Delhi   \n",
       "4227                               11am – 1am (Mon-Sun)    Bangalore   \n",
       "4228                         9:30am – 10:30pm (Mon-Sun)    Faridabad   \n",
       "4229  11am – 11:30pm (Mon, Tue, Wed, Thu, Sat, Sun),...        Kochi   \n",
       "4230                                5pm – 1am (Mon-Sun)  Bandra West   \n",
       "\n",
       "              LOCALITY RATING       VOTES  \n",
       "0            Sector 18    4.3   564 votes  \n",
       "1           Grant Road    4.2    61 votes  \n",
       "2         Marine Lines    3.8   350 votes  \n",
       "3                  NIT    3.8  1445 votes  \n",
       "4               Kaloor    3.6    23 votes  \n",
       "...                ...    ...         ...  \n",
       "4226      Punjabi Bagh    3.9   287 votes  \n",
       "4227        HSR Layout    4.3   469 votes  \n",
       "4228         Sector 86    3.7    53 votes  \n",
       "4229             Kochi      -         NaN  \n",
       "4230  Perry Cross Road    3.7    63 votes  \n",
       "\n",
       "[4231 rows x 8 columns]"
      ]
     },
     "execution_count": 84,
     "metadata": {},
     "output_type": "execute_result"
    }
   ],
   "source": [
    "data=pd.read_excel('Data_Test.xlsx')\n",
    "data"
   ]
  },
  {
   "cell_type": "code",
   "execution_count": null,
   "id": "5e47d52a",
   "metadata": {},
   "outputs": [],
   "source": []
  },
  {
   "cell_type": "code",
   "execution_count": null,
   "id": "348741ee",
   "metadata": {},
   "outputs": [],
   "source": []
  },
  {
   "cell_type": "code",
   "execution_count": 85,
   "id": "84a66fa4",
   "metadata": {},
   "outputs": [
    {
     "data": {
      "text/html": [
       "<div>\n",
       "<style scoped>\n",
       "    .dataframe tbody tr th:only-of-type {\n",
       "        vertical-align: middle;\n",
       "    }\n",
       "\n",
       "    .dataframe tbody tr th {\n",
       "        vertical-align: top;\n",
       "    }\n",
       "\n",
       "    .dataframe thead th {\n",
       "        text-align: right;\n",
       "    }\n",
       "</style>\n",
       "<table border=\"1\" class=\"dataframe\">\n",
       "  <thead>\n",
       "    <tr style=\"text-align: right;\">\n",
       "      <th></th>\n",
       "      <th>TITLE</th>\n",
       "      <th>RESTAURANT_ID</th>\n",
       "      <th>CUISINES</th>\n",
       "      <th>TIME</th>\n",
       "      <th>CITY</th>\n",
       "      <th>LOCALITY</th>\n",
       "      <th>RATING</th>\n",
       "      <th>VOTES</th>\n",
       "    </tr>\n",
       "  </thead>\n",
       "  <tbody>\n",
       "    <tr>\n",
       "      <th>0</th>\n",
       "      <td>CASUAL DINING</td>\n",
       "      <td>4085</td>\n",
       "      <td>North Indian, Chinese, Mughlai, Kebab</td>\n",
       "      <td>12noon – 12midnight (Mon-Sun)</td>\n",
       "      <td>Noida</td>\n",
       "      <td>Sector 18</td>\n",
       "      <td>4.3</td>\n",
       "      <td>564 votes</td>\n",
       "    </tr>\n",
       "    <tr>\n",
       "      <th>1</th>\n",
       "      <td>QUICK BITES</td>\n",
       "      <td>12680</td>\n",
       "      <td>South Indian, Fast Food, Pizza, North Indian</td>\n",
       "      <td>7am – 12:30AM (Mon-Sun)</td>\n",
       "      <td>Mumbai</td>\n",
       "      <td>Grant Road</td>\n",
       "      <td>4.2</td>\n",
       "      <td>61 votes</td>\n",
       "    </tr>\n",
       "    <tr>\n",
       "      <th>2</th>\n",
       "      <td>CASUAL DINING</td>\n",
       "      <td>1411</td>\n",
       "      <td>North Indian, Seafood, Biryani, Chinese</td>\n",
       "      <td>11am – 11:30pm (Mon-Sun)</td>\n",
       "      <td>Mumbai</td>\n",
       "      <td>Marine Lines</td>\n",
       "      <td>3.8</td>\n",
       "      <td>350 votes</td>\n",
       "    </tr>\n",
       "    <tr>\n",
       "      <th>3</th>\n",
       "      <td>None</td>\n",
       "      <td>204</td>\n",
       "      <td>Biryani</td>\n",
       "      <td>9am – 10pm (Mon, Wed, Thu, Fri, Sat, Sun), 10:...</td>\n",
       "      <td>Faridabad</td>\n",
       "      <td>NIT</td>\n",
       "      <td>3.8</td>\n",
       "      <td>1445 votes</td>\n",
       "    </tr>\n",
       "    <tr>\n",
       "      <th>4</th>\n",
       "      <td>QUICK BITES</td>\n",
       "      <td>13453</td>\n",
       "      <td>South Indian, Kerala</td>\n",
       "      <td>11am – 10pm (Mon-Sun)</td>\n",
       "      <td>Kochi</td>\n",
       "      <td>Kaloor</td>\n",
       "      <td>3.6</td>\n",
       "      <td>23 votes</td>\n",
       "    </tr>\n",
       "  </tbody>\n",
       "</table>\n",
       "</div>"
      ],
      "text/plain": [
       "           TITLE  RESTAURANT_ID                                      CUISINES  \\\n",
       "0  CASUAL DINING           4085         North Indian, Chinese, Mughlai, Kebab   \n",
       "1    QUICK BITES          12680  South Indian, Fast Food, Pizza, North Indian   \n",
       "2  CASUAL DINING           1411       North Indian, Seafood, Biryani, Chinese   \n",
       "3           None            204                                       Biryani   \n",
       "4    QUICK BITES          13453                          South Indian, Kerala   \n",
       "\n",
       "                                                TIME       CITY      LOCALITY  \\\n",
       "0                      12noon – 12midnight (Mon-Sun)      Noida     Sector 18   \n",
       "1                            7am – 12:30AM (Mon-Sun)     Mumbai    Grant Road   \n",
       "2                           11am – 11:30pm (Mon-Sun)     Mumbai  Marine Lines   \n",
       "3  9am – 10pm (Mon, Wed, Thu, Fri, Sat, Sun), 10:...  Faridabad           NIT   \n",
       "4                              11am – 10pm (Mon-Sun)      Kochi        Kaloor   \n",
       "\n",
       "  RATING       VOTES  \n",
       "0    4.3   564 votes  \n",
       "1    4.2    61 votes  \n",
       "2    3.8   350 votes  \n",
       "3    3.8  1445 votes  \n",
       "4    3.6    23 votes  "
      ]
     },
     "execution_count": 85,
     "metadata": {},
     "output_type": "execute_result"
    }
   ],
   "source": [
    "data.head()"
   ]
  },
  {
   "cell_type": "code",
   "execution_count": null,
   "id": "86412628",
   "metadata": {},
   "outputs": [],
   "source": []
  },
  {
   "cell_type": "markdown",
   "id": "457ce52b",
   "metadata": {},
   "source": [
    "this are the first 5 rows of the dataset"
   ]
  },
  {
   "cell_type": "code",
   "execution_count": null,
   "id": "fbc423b4",
   "metadata": {},
   "outputs": [],
   "source": []
  },
  {
   "cell_type": "code",
   "execution_count": 86,
   "id": "b164e991",
   "metadata": {},
   "outputs": [
    {
     "data": {
      "text/html": [
       "<div>\n",
       "<style scoped>\n",
       "    .dataframe tbody tr th:only-of-type {\n",
       "        vertical-align: middle;\n",
       "    }\n",
       "\n",
       "    .dataframe tbody tr th {\n",
       "        vertical-align: top;\n",
       "    }\n",
       "\n",
       "    .dataframe thead th {\n",
       "        text-align: right;\n",
       "    }\n",
       "</style>\n",
       "<table border=\"1\" class=\"dataframe\">\n",
       "  <thead>\n",
       "    <tr style=\"text-align: right;\">\n",
       "      <th></th>\n",
       "      <th>TITLE</th>\n",
       "      <th>RESTAURANT_ID</th>\n",
       "      <th>CUISINES</th>\n",
       "      <th>TIME</th>\n",
       "      <th>CITY</th>\n",
       "      <th>LOCALITY</th>\n",
       "      <th>RATING</th>\n",
       "      <th>VOTES</th>\n",
       "    </tr>\n",
       "  </thead>\n",
       "  <tbody>\n",
       "    <tr>\n",
       "      <th>4226</th>\n",
       "      <td>CASUAL DINING</td>\n",
       "      <td>9057</td>\n",
       "      <td>North Indian, Mughlai, Chinese</td>\n",
       "      <td>11:30am – 11:30pm (Mon-Sun)</td>\n",
       "      <td>New Delhi</td>\n",
       "      <td>Punjabi Bagh</td>\n",
       "      <td>3.9</td>\n",
       "      <td>287 votes</td>\n",
       "    </tr>\n",
       "    <tr>\n",
       "      <th>4227</th>\n",
       "      <td>None</td>\n",
       "      <td>1247</td>\n",
       "      <td>Biryani, North Indian, Sandwich, Salad, Wraps</td>\n",
       "      <td>11am – 1am (Mon-Sun)</td>\n",
       "      <td>Bangalore</td>\n",
       "      <td>HSR Layout</td>\n",
       "      <td>4.3</td>\n",
       "      <td>469 votes</td>\n",
       "    </tr>\n",
       "    <tr>\n",
       "      <th>4228</th>\n",
       "      <td>QUICK BITES</td>\n",
       "      <td>8617</td>\n",
       "      <td>Continental, North Indian</td>\n",
       "      <td>9:30am – 10:30pm (Mon-Sun)</td>\n",
       "      <td>Faridabad</td>\n",
       "      <td>Sector 86</td>\n",
       "      <td>3.7</td>\n",
       "      <td>53 votes</td>\n",
       "    </tr>\n",
       "    <tr>\n",
       "      <th>4229</th>\n",
       "      <td>QUICK BITES</td>\n",
       "      <td>6485</td>\n",
       "      <td>Rolls, Beverages</td>\n",
       "      <td>11am – 11:30pm (Mon, Tue, Wed, Thu, Sat, Sun),...</td>\n",
       "      <td>Kochi</td>\n",
       "      <td>Kochi</td>\n",
       "      <td>-</td>\n",
       "      <td>NaN</td>\n",
       "    </tr>\n",
       "    <tr>\n",
       "      <th>4230</th>\n",
       "      <td>QUICK BITES</td>\n",
       "      <td>2421</td>\n",
       "      <td>Mughlai</td>\n",
       "      <td>5pm – 1am (Mon-Sun)</td>\n",
       "      <td>Bandra West</td>\n",
       "      <td>Perry Cross Road</td>\n",
       "      <td>3.7</td>\n",
       "      <td>63 votes</td>\n",
       "    </tr>\n",
       "  </tbody>\n",
       "</table>\n",
       "</div>"
      ],
      "text/plain": [
       "              TITLE  RESTAURANT_ID  \\\n",
       "4226  CASUAL DINING           9057   \n",
       "4227           None           1247   \n",
       "4228    QUICK BITES           8617   \n",
       "4229    QUICK BITES           6485   \n",
       "4230    QUICK BITES           2421   \n",
       "\n",
       "                                           CUISINES  \\\n",
       "4226                 North Indian, Mughlai, Chinese   \n",
       "4227  Biryani, North Indian, Sandwich, Salad, Wraps   \n",
       "4228                      Continental, North Indian   \n",
       "4229                               Rolls, Beverages   \n",
       "4230                                        Mughlai   \n",
       "\n",
       "                                                   TIME         CITY  \\\n",
       "4226                        11:30am – 11:30pm (Mon-Sun)    New Delhi   \n",
       "4227                               11am – 1am (Mon-Sun)    Bangalore   \n",
       "4228                         9:30am – 10:30pm (Mon-Sun)    Faridabad   \n",
       "4229  11am – 11:30pm (Mon, Tue, Wed, Thu, Sat, Sun),...        Kochi   \n",
       "4230                                5pm – 1am (Mon-Sun)  Bandra West   \n",
       "\n",
       "              LOCALITY RATING      VOTES  \n",
       "4226      Punjabi Bagh    3.9  287 votes  \n",
       "4227        HSR Layout    4.3  469 votes  \n",
       "4228         Sector 86    3.7   53 votes  \n",
       "4229             Kochi      -        NaN  \n",
       "4230  Perry Cross Road    3.7   63 votes  "
      ]
     },
     "execution_count": 86,
     "metadata": {},
     "output_type": "execute_result"
    }
   ],
   "source": [
    "data.tail()"
   ]
  },
  {
   "cell_type": "code",
   "execution_count": null,
   "id": "1edaf0c5",
   "metadata": {},
   "outputs": [],
   "source": []
  },
  {
   "cell_type": "markdown",
   "id": "c964cca6",
   "metadata": {},
   "source": [
    "this are the last 5 rows of the dataset"
   ]
  },
  {
   "cell_type": "code",
   "execution_count": null,
   "id": "4f356820",
   "metadata": {},
   "outputs": [],
   "source": []
  },
  {
   "cell_type": "code",
   "execution_count": 87,
   "id": "f695c36b",
   "metadata": {},
   "outputs": [
    {
     "data": {
      "text/html": [
       "<div>\n",
       "<style scoped>\n",
       "    .dataframe tbody tr th:only-of-type {\n",
       "        vertical-align: middle;\n",
       "    }\n",
       "\n",
       "    .dataframe tbody tr th {\n",
       "        vertical-align: top;\n",
       "    }\n",
       "\n",
       "    .dataframe thead th {\n",
       "        text-align: right;\n",
       "    }\n",
       "</style>\n",
       "<table border=\"1\" class=\"dataframe\">\n",
       "  <thead>\n",
       "    <tr style=\"text-align: right;\">\n",
       "      <th></th>\n",
       "      <th>TITLE</th>\n",
       "      <th>RESTAURANT_ID</th>\n",
       "      <th>CUISINES</th>\n",
       "      <th>TIME</th>\n",
       "      <th>CITY</th>\n",
       "      <th>LOCALITY</th>\n",
       "      <th>RATING</th>\n",
       "      <th>VOTES</th>\n",
       "    </tr>\n",
       "  </thead>\n",
       "  <tbody>\n",
       "    <tr>\n",
       "      <th>3780</th>\n",
       "      <td>CAFÉ</td>\n",
       "      <td>13251</td>\n",
       "      <td>Cafe, Pizza</td>\n",
       "      <td>11am – 10pm (Mon-Sun)</td>\n",
       "      <td>New Delhi</td>\n",
       "      <td>Hauz Khas</td>\n",
       "      <td>3.9</td>\n",
       "      <td>97 votes</td>\n",
       "    </tr>\n",
       "    <tr>\n",
       "      <th>3579</th>\n",
       "      <td>QUICK BITES</td>\n",
       "      <td>11343</td>\n",
       "      <td>Fast Food</td>\n",
       "      <td>11am – 9pm (Mon-Sun)</td>\n",
       "      <td>Kochi</td>\n",
       "      <td>Kakkanad</td>\n",
       "      <td>-</td>\n",
       "      <td>NaN</td>\n",
       "    </tr>\n",
       "    <tr>\n",
       "      <th>4225</th>\n",
       "      <td>QUICK BITES</td>\n",
       "      <td>1670</td>\n",
       "      <td>North Indian, Mughlai, Chinese</td>\n",
       "      <td>6am – 12:30AM (Mon, Tue, Wed, Thu, Sat, Sun), ...</td>\n",
       "      <td>Mumbai</td>\n",
       "      <td>Grant Road</td>\n",
       "      <td>4.0</td>\n",
       "      <td>197 votes</td>\n",
       "    </tr>\n",
       "    <tr>\n",
       "      <th>2927</th>\n",
       "      <td>QUICK BITES</td>\n",
       "      <td>15336</td>\n",
       "      <td>South Indian, Chinese</td>\n",
       "      <td>9am – 10pm (Mon-Sun)</td>\n",
       "      <td>Kochi</td>\n",
       "      <td>Marine Drive</td>\n",
       "      <td>-</td>\n",
       "      <td>NaN</td>\n",
       "    </tr>\n",
       "    <tr>\n",
       "      <th>1003</th>\n",
       "      <td>QUICK BITES</td>\n",
       "      <td>3264</td>\n",
       "      <td>Arabian, Fast Food</td>\n",
       "      <td>10am – 11pm (Mon-Sun)</td>\n",
       "      <td>Chennai</td>\n",
       "      <td>Egmore</td>\n",
       "      <td>4.0</td>\n",
       "      <td>491 votes</td>\n",
       "    </tr>\n",
       "  </tbody>\n",
       "</table>\n",
       "</div>"
      ],
      "text/plain": [
       "            TITLE  RESTAURANT_ID                        CUISINES  \\\n",
       "3780         CAFÉ          13251                     Cafe, Pizza   \n",
       "3579  QUICK BITES          11343                       Fast Food   \n",
       "4225  QUICK BITES           1670  North Indian, Mughlai, Chinese   \n",
       "2927  QUICK BITES          15336           South Indian, Chinese   \n",
       "1003  QUICK BITES           3264              Arabian, Fast Food   \n",
       "\n",
       "                                                   TIME       CITY  \\\n",
       "3780                              11am – 10pm (Mon-Sun)  New Delhi   \n",
       "3579                               11am – 9pm (Mon-Sun)      Kochi   \n",
       "4225  6am – 12:30AM (Mon, Tue, Wed, Thu, Sat, Sun), ...     Mumbai   \n",
       "2927                               9am – 10pm (Mon-Sun)      Kochi   \n",
       "1003                              10am – 11pm (Mon-Sun)    Chennai   \n",
       "\n",
       "          LOCALITY RATING      VOTES  \n",
       "3780     Hauz Khas    3.9   97 votes  \n",
       "3579      Kakkanad      -        NaN  \n",
       "4225    Grant Road    4.0  197 votes  \n",
       "2927  Marine Drive      -        NaN  \n",
       "1003        Egmore    4.0  491 votes  "
      ]
     },
     "execution_count": 87,
     "metadata": {},
     "output_type": "execute_result"
    }
   ],
   "source": [
    "data.sample(5)"
   ]
  },
  {
   "cell_type": "code",
   "execution_count": null,
   "id": "83f95ae5",
   "metadata": {},
   "outputs": [],
   "source": []
  },
  {
   "cell_type": "markdown",
   "id": "b23389af",
   "metadata": {},
   "source": [
    "this are the some random sample of the dataset"
   ]
  },
  {
   "cell_type": "code",
   "execution_count": null,
   "id": "10c2f13a",
   "metadata": {},
   "outputs": [],
   "source": []
  },
  {
   "cell_type": "code",
   "execution_count": 88,
   "id": "c3df6085",
   "metadata": {},
   "outputs": [
    {
     "name": "stdout",
     "output_type": "stream",
     "text": [
      "<class 'pandas.core.frame.DataFrame'>\n",
      "RangeIndex: 12690 entries, 0 to 12689\n",
      "Data columns (total 9 columns):\n",
      " #   Column         Non-Null Count  Dtype  \n",
      "---  ------         --------------  -----  \n",
      " 0   TITLE          12690 non-null  float64\n",
      " 1   RESTAURANT_ID  12690 non-null  int64  \n",
      " 2   CUISINES       12690 non-null  float64\n",
      " 3   TIME           12690 non-null  float64\n",
      " 4   CITY           12690 non-null  float64\n",
      " 5   LOCALITY       12690 non-null  float64\n",
      " 6   RATING         12690 non-null  float64\n",
      " 7   VOTES          12690 non-null  float64\n",
      " 8   COST           12690 non-null  int64  \n",
      "dtypes: float64(7), int64(2)\n",
      "memory usage: 892.4 KB\n"
     ]
    }
   ],
   "source": [
    "df.info()"
   ]
  },
  {
   "cell_type": "code",
   "execution_count": null,
   "id": "93ff1cc1",
   "metadata": {},
   "outputs": [],
   "source": []
  },
  {
   "cell_type": "markdown",
   "id": "b2366940",
   "metadata": {},
   "source": [
    "in this dataset 7 columns are ('float64') and remaining 2 are ('int64') "
   ]
  },
  {
   "cell_type": "code",
   "execution_count": null,
   "id": "0ae4d170",
   "metadata": {},
   "outputs": [],
   "source": []
  },
  {
   "cell_type": "code",
   "execution_count": 89,
   "id": "d2a137cc",
   "metadata": {},
   "outputs": [
    {
     "data": {
      "text/plain": [
       "TITLE              0\n",
       "RESTAURANT_ID      0\n",
       "CUISINES           0\n",
       "TIME               0\n",
       "CITY              35\n",
       "LOCALITY          30\n",
       "RATING             2\n",
       "VOTES            402\n",
       "dtype: int64"
      ]
     },
     "execution_count": 89,
     "metadata": {},
     "output_type": "execute_result"
    }
   ],
   "source": [
    "data.isnull().sum()"
   ]
  },
  {
   "cell_type": "code",
   "execution_count": null,
   "id": "99260a8d",
   "metadata": {},
   "outputs": [],
   "source": []
  },
  {
   "cell_type": "code",
   "execution_count": 91,
   "id": "e395e24e",
   "metadata": {},
   "outputs": [
    {
     "data": {
      "text/plain": [
       "<Axes: >"
      ]
     },
     "execution_count": 91,
     "metadata": {},
     "output_type": "execute_result"
    },
    {
     "data": {
      "image/png": "[encoded data removed]",
      "text/plain": [
       "<Figure size 640x480 with 2 Axes>"
      ]
     },
     "metadata": {},
     "output_type": "display_data"
    }
   ],
   "source": [
    "sns.heatmap(data.isnull())"
   ]
  },
  {
   "cell_type": "code",
   "execution_count": null,
   "id": "27048437",
   "metadata": {},
   "outputs": [],
   "source": []
  },
  {
   "cell_type": "markdown",
   "id": "0f501a76",
   "metadata": {},
   "source": [
    "in this dataset we have some null values so let's handle it "
   ]
  },
  {
   "cell_type": "code",
   "execution_count": null,
   "id": "daadd45f",
   "metadata": {},
   "outputs": [],
   "source": []
  },
  {
   "cell_type": "code",
   "execution_count": 92,
   "id": "556d466a",
   "metadata": {},
   "outputs": [
    {
     "data": {
      "text/plain": [
       "TITLE              0\n",
       "RESTAURANT_ID      0\n",
       "CUISINES           0\n",
       "TIME               0\n",
       "CITY              35\n",
       "LOCALITY          30\n",
       "RATING             2\n",
       "VOTES            402\n",
       "dtype: int64"
      ]
     },
     "execution_count": 92,
     "metadata": {},
     "output_type": "execute_result"
    }
   ],
   "source": [
    "data.isnull().sum()"
   ]
  },
  {
   "cell_type": "code",
   "execution_count": null,
   "id": "ab0eab60",
   "metadata": {},
   "outputs": [],
   "source": []
  },
  {
   "cell_type": "code",
   "execution_count": 93,
   "id": "83a36a18",
   "metadata": {},
   "outputs": [],
   "source": [
    "data['CITY']=data['CITY'].fillna(data['CITY'].mode()[0])\n",
    "data['LOCALITY']=data['LOCALITY'].fillna(data['LOCALITY'].mode()[0])\n",
    "data['RATING']=data['RATING'].fillna(data['RATING'].mode()[0])\n",
    "data['VOTES']=data['VOTES'].fillna(data['VOTES'].mode()[0])"
   ]
  },
  {
   "cell_type": "code",
   "execution_count": null,
   "id": "25d42ee8",
   "metadata": {},
   "outputs": [],
   "source": []
  },
  {
   "cell_type": "code",
   "execution_count": 94,
   "id": "62d932b8",
   "metadata": {},
   "outputs": [
    {
     "data": {
      "text/plain": [
       "TITLE            0\n",
       "RESTAURANT_ID    0\n",
       "CUISINES         0\n",
       "TIME             0\n",
       "CITY             0\n",
       "LOCALITY         0\n",
       "RATING           0\n",
       "VOTES            0\n",
       "dtype: int64"
      ]
     },
     "execution_count": 94,
     "metadata": {},
     "output_type": "execute_result"
    }
   ],
   "source": [
    "data.isnull().sum()"
   ]
  },
  {
   "cell_type": "code",
   "execution_count": null,
   "id": "d323bb6e",
   "metadata": {},
   "outputs": [],
   "source": []
  },
  {
   "cell_type": "code",
   "execution_count": 95,
   "id": "ed3d5c10",
   "metadata": {},
   "outputs": [
    {
     "data": {
      "text/plain": [
       "<Axes: >"
      ]
     },
     "execution_count": 95,
     "metadata": {},
     "output_type": "execute_result"
    },
    {
     "data": {
      "image/png": "[encoded data removed]",
      "text/plain": [
       "<Figure size 640x480 with 2 Axes>"
      ]
     },
     "metadata": {},
     "output_type": "display_data"
    }
   ],
   "source": [
    "sns.heatmap(data.isnull())"
   ]
  },
  {
   "cell_type": "code",
   "execution_count": null,
   "id": "682b0089",
   "metadata": {},
   "outputs": [],
   "source": []
  },
  {
   "cell_type": "markdown",
   "id": "7c050709",
   "metadata": {},
   "source": [
    "we have filled the null values "
   ]
  },
  {
   "cell_type": "code",
   "execution_count": null,
   "id": "5963c33f",
   "metadata": {},
   "outputs": [],
   "source": []
  },
  {
   "cell_type": "code",
   "execution_count": null,
   "id": "1cf1f188",
   "metadata": {},
   "outputs": [],
   "source": []
  },
  {
   "cell_type": "code",
   "execution_count": 99,
   "id": "9a952360",
   "metadata": {},
   "outputs": [
    {
     "data": {
      "text/plain": [
       "TITLE            object\n",
       "RESTAURANT_ID     int64\n",
       "CUISINES         object\n",
       "TIME             object\n",
       "CITY             object\n",
       "LOCALITY         object\n",
       "RATING           object\n",
       "VOTES            object\n",
       "dtype: object"
      ]
     },
     "execution_count": 99,
     "metadata": {},
     "output_type": "execute_result"
    }
   ],
   "source": [
    "data.dtypes"
   ]
  },
  {
   "cell_type": "code",
   "execution_count": null,
   "id": "52219f8c",
   "metadata": {},
   "outputs": [],
   "source": []
  },
  {
   "cell_type": "code",
   "execution_count": 100,
   "id": "d724145c",
   "metadata": {},
   "outputs": [
    {
     "name": "stdout",
     "output_type": "stream",
     "text": [
      "QUICK BITES                   1416\n",
      "CASUAL DINING                 1258\n",
      "None                           284\n",
      "CAFÉ                           223\n",
      "DESSERT PARLOR                 126\n",
      "                              ... \n",
      "CASUAL DINING,LOUNGE             1\n",
      "CLUB,FINE DINING                 1\n",
      "SWEET SHOP,DESSERT PARLOR        1\n",
      "COCKTAIL BAR,CASUAL DINING       1\n",
      "BHOJANALYA                       1\n",
      "Name: TITLE, Length: 86, dtype: int64\n",
      "\n",
      "\n",
      "15454    3\n",
      "12799    3\n",
      "7656     3\n",
      "1619     3\n",
      "11169    3\n",
      "        ..\n",
      "4318     1\n",
      "636      1\n",
      "7425     1\n",
      "3631     1\n",
      "2421     1\n",
      "Name: RESTAURANT_ID, Length: 4127, dtype: int64\n",
      "\n",
      "\n",
      "North Indian, Chinese                                 213\n",
      "North Indian                                          190\n",
      "South Indian                                          174\n",
      "Fast Food                                              78\n",
      "Chinese                                                59\n",
      "                                                     ... \n",
      "South Indian, Kerala, Chinese, North Indian             1\n",
      "North Indian, Biryani, Fast Food, Beverages             1\n",
      "Continental, Thai, Italian, Mexican, Mediterranean      1\n",
      "Desserts, Continental                                   1\n",
      "Rolls, Beverages                                        1\n",
      "Name: CUISINES, Length: 1727, dtype: int64\n",
      "\n",
      "\n",
      "11am – 11pm (Mon-Sun)                                    447\n",
      "12noon – 12midnight (Mon-Sun)                            146\n",
      "12noon – 11pm (Mon-Sun)                                  134\n",
      "11am – 12midnight (Mon-Sun)                              109\n",
      "10am – 11pm (Mon-Sun)                                     74\n",
      "                                                        ... \n",
      "12noon – 11pm (Mon-Fri),12noon – 12midnight...             1\n",
      "8:30am – 8:30pm (Mon-Sun)                                  1\n",
      "11:30am – 3:30pm, 6:45pm – 11:30pm (Mon-Sun)               1\n",
      "12noon – 10:39pm (Mon, Tue, Wed, Thu, Sat, Sun)...         1\n",
      "11am – 11:30pm (Mon, Tue, Wed, Thu, Sat, Sun), 3pm...      1\n",
      "Name: TIME, Length: 1183, dtype: int64\n",
      "\n",
      "\n",
      "Bangalore                   721\n",
      "Chennai                     681\n",
      "Hyderabad                   639\n",
      "Mumbai                      589\n",
      "Kochi                       472\n",
      "                           ... \n",
      "Thane West Thane West         1\n",
      "Mumbai 400015                 1\n",
      "Secunderabad.                 1\n",
      "Kurla (W)                     1\n",
      "Opposite Ellora Building      1\n",
      "Name: CITY, Length: 151, dtype: int64\n",
      "\n",
      "\n",
      "Kakkanad                84\n",
      "Kukatpally              54\n",
      "Whitefield              53\n",
      "Madhapur                52\n",
      "Gachibowli              50\n",
      "                        ..\n",
      "Kengeri                  1\n",
      "Ambernath                1\n",
      "Near Rammurthy Nagar     1\n",
      "Anna Nagar               1\n",
      "Perry Cross Road         1\n",
      "Name: LOCALITY, Length: 834, dtype: int64\n",
      "\n",
      "\n",
      "3.8    416\n",
      "3.9    405\n",
      "4.0    399\n",
      "3.7    351\n",
      "3.6    310\n",
      "4.1    281\n",
      "4.2    245\n",
      "NEW    223\n",
      "3.5    217\n",
      "3.4    202\n",
      "4.3    184\n",
      "-      177\n",
      "4.4    122\n",
      "3.3    120\n",
      "3.2     83\n",
      "3.1     77\n",
      "4.5     75\n",
      "3.0     59\n",
      "2.9     56\n",
      "2.8     45\n",
      "4.6     43\n",
      "2.7     40\n",
      "2.6     24\n",
      "4.7     21\n",
      "4.8     17\n",
      "2.5     16\n",
      "2.4      9\n",
      "4.9      6\n",
      "2.3      5\n",
      "2.2      2\n",
      "2.1      1\n",
      "Name: RATING, dtype: int64\n",
      "\n",
      "\n",
      "6 votes       432\n",
      "22 votes       26\n",
      "58 votes       26\n",
      "9 votes        24\n",
      "42 votes       24\n",
      "             ... \n",
      "1206 votes      1\n",
      "796 votes       1\n",
      "1720 votes      1\n",
      "734 votes       1\n",
      "1239 votes      1\n",
      "Name: VOTES, Length: 1136, dtype: int64\n",
      "\n",
      "\n"
     ]
    }
   ],
   "source": [
    "for i in data.columns:\n",
    "    print(data[i].value_counts())\n",
    "    print('\\n')"
   ]
  },
  {
   "cell_type": "code",
   "execution_count": null,
   "id": "59de34c1",
   "metadata": {},
   "outputs": [],
   "source": []
  },
  {
   "cell_type": "markdown",
   "id": "48908ee2",
   "metadata": {},
   "source": [
    "# feature  Encoding using (ordinal Encoder)"
   ]
  },
  {
   "cell_type": "code",
   "execution_count": null,
   "id": "d17ceeb4",
   "metadata": {},
   "outputs": [],
   "source": []
  },
  {
   "cell_type": "code",
   "execution_count": 110,
   "id": "03f2737a",
   "metadata": {},
   "outputs": [
    {
     "data": {
      "text/html": [
       "<div>\n",
       "<style scoped>\n",
       "    .dataframe tbody tr th:only-of-type {\n",
       "        vertical-align: middle;\n",
       "    }\n",
       "\n",
       "    .dataframe tbody tr th {\n",
       "        vertical-align: top;\n",
       "    }\n",
       "\n",
       "    .dataframe thead th {\n",
       "        text-align: right;\n",
       "    }\n",
       "</style>\n",
       "<table border=\"1\" class=\"dataframe\">\n",
       "  <thead>\n",
       "    <tr style=\"text-align: right;\">\n",
       "      <th></th>\n",
       "      <th>TITLE</th>\n",
       "      <th>RESTAURANT_ID</th>\n",
       "      <th>CUISINES</th>\n",
       "      <th>TIME</th>\n",
       "      <th>CITY</th>\n",
       "      <th>LOCALITY</th>\n",
       "      <th>RATING</th>\n",
       "      <th>VOTES</th>\n",
       "    </tr>\n",
       "  </thead>\n",
       "  <tbody>\n",
       "    <tr>\n",
       "      <th>0</th>\n",
       "      <td>23.0</td>\n",
       "      <td>4085</td>\n",
       "      <td>1293.0</td>\n",
       "      <td>503.0</td>\n",
       "      <td>110.0</td>\n",
       "      <td>662.0</td>\n",
       "      <td>23.0</td>\n",
       "      <td>823.0</td>\n",
       "    </tr>\n",
       "    <tr>\n",
       "      <th>1</th>\n",
       "      <td>75.0</td>\n",
       "      <td>12680</td>\n",
       "      <td>1632.0</td>\n",
       "      <td>933.0</td>\n",
       "      <td>96.0</td>\n",
       "      <td>221.0</td>\n",
       "      <td>22.0</td>\n",
       "      <td>871.0</td>\n",
       "    </tr>\n",
       "    <tr>\n",
       "      <th>2</th>\n",
       "      <td>23.0</td>\n",
       "      <td>1411</td>\n",
       "      <td>1455.0</td>\n",
       "      <td>219.0</td>\n",
       "      <td>96.0</td>\n",
       "      <td>411.0</td>\n",
       "      <td>18.0</td>\n",
       "      <td>575.0</td>\n",
       "    </tr>\n",
       "    <tr>\n",
       "      <th>3</th>\n",
       "      <td>66.0</td>\n",
       "      <td>204</td>\n",
       "      <td>208.0</td>\n",
       "      <td>1071.0</td>\n",
       "      <td>41.0</td>\n",
       "      <td>456.0</td>\n",
       "      <td>18.0</td>\n",
       "      <td>179.0</td>\n",
       "    </tr>\n",
       "    <tr>\n",
       "      <th>4</th>\n",
       "      <td>75.0</td>\n",
       "      <td>13453</td>\n",
       "      <td>1637.0</td>\n",
       "      <td>208.0</td>\n",
       "      <td>78.0</td>\n",
       "      <td>300.0</td>\n",
       "      <td>16.0</td>\n",
       "      <td>394.0</td>\n",
       "    </tr>\n",
       "    <tr>\n",
       "      <th>...</th>\n",
       "      <td>...</td>\n",
       "      <td>...</td>\n",
       "      <td>...</td>\n",
       "      <td>...</td>\n",
       "      <td>...</td>\n",
       "      <td>...</td>\n",
       "      <td>...</td>\n",
       "      <td>...</td>\n",
       "    </tr>\n",
       "    <tr>\n",
       "      <th>4226</th>\n",
       "      <td>23.0</td>\n",
       "      <td>9057</td>\n",
       "      <td>1425.0</td>\n",
       "      <td>103.0</td>\n",
       "      <td>108.0</td>\n",
       "      <td>597.0</td>\n",
       "      <td>19.0</td>\n",
       "      <td>487.0</td>\n",
       "    </tr>\n",
       "    <tr>\n",
       "      <th>4227</th>\n",
       "      <td>66.0</td>\n",
       "      <td>1247</td>\n",
       "      <td>267.0</td>\n",
       "      <td>262.0</td>\n",
       "      <td>9.0</td>\n",
       "      <td>237.0</td>\n",
       "      <td>23.0</td>\n",
       "      <td>722.0</td>\n",
       "    </tr>\n",
       "    <tr>\n",
       "      <th>4228</th>\n",
       "      <td>75.0</td>\n",
       "      <td>8617</td>\n",
       "      <td>679.0</td>\n",
       "      <td>1052.0</td>\n",
       "      <td>41.0</td>\n",
       "      <td>696.0</td>\n",
       "      <td>17.0</td>\n",
       "      <td>789.0</td>\n",
       "    </tr>\n",
       "    <tr>\n",
       "      <th>4229</th>\n",
       "      <td>75.0</td>\n",
       "      <td>6485</td>\n",
       "      <td>1541.0</td>\n",
       "      <td>215.0</td>\n",
       "      <td>78.0</td>\n",
       "      <td>332.0</td>\n",
       "      <td>0.0</td>\n",
       "      <td>861.0</td>\n",
       "    </tr>\n",
       "    <tr>\n",
       "      <th>4230</th>\n",
       "      <td>75.0</td>\n",
       "      <td>2421</td>\n",
       "      <td>1145.0</td>\n",
       "      <td>781.0</td>\n",
       "      <td>8.0</td>\n",
       "      <td>580.0</td>\n",
       "      <td>17.0</td>\n",
       "      <td>887.0</td>\n",
       "    </tr>\n",
       "  </tbody>\n",
       "</table>\n",
       "<p>4231 rows × 8 columns</p>\n",
       "</div>"
      ],
      "text/plain": [
       "      TITLE  RESTAURANT_ID  CUISINES    TIME   CITY  LOCALITY  RATING  VOTES\n",
       "0      23.0           4085    1293.0   503.0  110.0     662.0    23.0  823.0\n",
       "1      75.0          12680    1632.0   933.0   96.0     221.0    22.0  871.0\n",
       "2      23.0           1411    1455.0   219.0   96.0     411.0    18.0  575.0\n",
       "3      66.0            204     208.0  1071.0   41.0     456.0    18.0  179.0\n",
       "4      75.0          13453    1637.0   208.0   78.0     300.0    16.0  394.0\n",
       "...     ...            ...       ...     ...    ...       ...     ...    ...\n",
       "4226   23.0           9057    1425.0   103.0  108.0     597.0    19.0  487.0\n",
       "4227   66.0           1247     267.0   262.0    9.0     237.0    23.0  722.0\n",
       "4228   75.0           8617     679.0  1052.0   41.0     696.0    17.0  789.0\n",
       "4229   75.0           6485    1541.0   215.0   78.0     332.0     0.0  861.0\n",
       "4230   75.0           2421    1145.0   781.0    8.0     580.0    17.0  887.0\n",
       "\n",
       "[4231 rows x 8 columns]"
      ]
     },
     "execution_count": 110,
     "metadata": {},
     "output_type": "execute_result"
    }
   ],
   "source": [
    "OE=OrdinalEncoder()\n",
    "for i in data.columns:\n",
    "    if data.dtypes[i]=='object':\n",
    "        data[i]=OE.fit_transform(data[i].values.reshape(-1,1))\n",
    "data"
   ]
  },
  {
   "cell_type": "code",
   "execution_count": null,
   "id": "08cdea15",
   "metadata": {},
   "outputs": [],
   "source": []
  },
  {
   "cell_type": "markdown",
   "id": "18c8b0bc",
   "metadata": {},
   "source": [
    "# scaling the features using (Standard Scaler)"
   ]
  },
  {
   "cell_type": "code",
   "execution_count": null,
   "id": "7b17b624",
   "metadata": {},
   "outputs": [],
   "source": []
  },
  {
   "cell_type": "code",
   "execution_count": 112,
   "id": "bc6773a8",
   "metadata": {},
   "outputs": [
    {
     "data": {
      "text/html": [
       "<div>\n",
       "<style scoped>\n",
       "    .dataframe tbody tr th:only-of-type {\n",
       "        vertical-align: middle;\n",
       "    }\n",
       "\n",
       "    .dataframe tbody tr th {\n",
       "        vertical-align: top;\n",
       "    }\n",
       "\n",
       "    .dataframe thead th {\n",
       "        text-align: right;\n",
       "    }\n",
       "</style>\n",
       "<table border=\"1\" class=\"dataframe\">\n",
       "  <thead>\n",
       "    <tr style=\"text-align: right;\">\n",
       "      <th></th>\n",
       "      <th>TITLE</th>\n",
       "      <th>RESTAURANT_ID</th>\n",
       "      <th>CUISINES</th>\n",
       "      <th>TIME</th>\n",
       "      <th>CITY</th>\n",
       "      <th>LOCALITY</th>\n",
       "      <th>RATING</th>\n",
       "      <th>VOTES</th>\n",
       "    </tr>\n",
       "  </thead>\n",
       "  <tbody>\n",
       "    <tr>\n",
       "      <th>0</th>\n",
       "      <td>-0.862742</td>\n",
       "      <td>-0.831362</td>\n",
       "      <td>0.731565</td>\n",
       "      <td>-0.059086</td>\n",
       "      <td>1.336371</td>\n",
       "      <td>1.186360</td>\n",
       "      <td>0.856791</td>\n",
       "      <td>0.713516</td>\n",
       "    </tr>\n",
       "    <tr>\n",
       "      <th>1</th>\n",
       "      <td>1.106503</td>\n",
       "      <td>1.096515</td>\n",
       "      <td>1.411712</td>\n",
       "      <td>1.203765</td>\n",
       "      <td>0.974641</td>\n",
       "      <td>-0.691337</td>\n",
       "      <td>0.694755</td>\n",
       "      <td>0.863997</td>\n",
       "    </tr>\n",
       "    <tr>\n",
       "      <th>2</th>\n",
       "      <td>-0.862742</td>\n",
       "      <td>-1.431146</td>\n",
       "      <td>1.056591</td>\n",
       "      <td>-0.893156</td>\n",
       "      <td>0.974641</td>\n",
       "      <td>0.117648</td>\n",
       "      <td>0.046608</td>\n",
       "      <td>-0.063971</td>\n",
       "    </tr>\n",
       "    <tr>\n",
       "      <th>3</th>\n",
       "      <td>0.765672</td>\n",
       "      <td>-1.701879</td>\n",
       "      <td>-1.445308</td>\n",
       "      <td>1.609053</td>\n",
       "      <td>-0.446444</td>\n",
       "      <td>0.309250</td>\n",
       "      <td>0.046608</td>\n",
       "      <td>-1.305441</td>\n",
       "    </tr>\n",
       "    <tr>\n",
       "      <th>4</th>\n",
       "      <td>1.106503</td>\n",
       "      <td>1.269901</td>\n",
       "      <td>1.421744</td>\n",
       "      <td>-0.925461</td>\n",
       "      <td>0.509558</td>\n",
       "      <td>-0.354970</td>\n",
       "      <td>-0.277465</td>\n",
       "      <td>-0.631410</td>\n",
       "    </tr>\n",
       "    <tr>\n",
       "      <th>...</th>\n",
       "      <td>...</td>\n",
       "      <td>...</td>\n",
       "      <td>...</td>\n",
       "      <td>...</td>\n",
       "      <td>...</td>\n",
       "      <td>...</td>\n",
       "      <td>...</td>\n",
       "      <td>...</td>\n",
       "    </tr>\n",
       "    <tr>\n",
       "      <th>4226</th>\n",
       "      <td>-0.862742</td>\n",
       "      <td>0.283868</td>\n",
       "      <td>0.996401</td>\n",
       "      <td>-1.233832</td>\n",
       "      <td>1.284696</td>\n",
       "      <td>0.909602</td>\n",
       "      <td>0.208645</td>\n",
       "      <td>-0.339853</td>\n",
       "    </tr>\n",
       "    <tr>\n",
       "      <th>4227</th>\n",
       "      <td>0.765672</td>\n",
       "      <td>-1.467932</td>\n",
       "      <td>-1.326935</td>\n",
       "      <td>-0.766871</td>\n",
       "      <td>-1.273257</td>\n",
       "      <td>-0.623212</td>\n",
       "      <td>0.856791</td>\n",
       "      <td>0.396878</td>\n",
       "    </tr>\n",
       "    <tr>\n",
       "      <th>4228</th>\n",
       "      <td>1.106503</td>\n",
       "      <td>0.185175</td>\n",
       "      <td>-0.500325</td>\n",
       "      <td>1.553252</td>\n",
       "      <td>-0.446444</td>\n",
       "      <td>1.331126</td>\n",
       "      <td>-0.115429</td>\n",
       "      <td>0.606925</td>\n",
       "    </tr>\n",
       "    <tr>\n",
       "      <th>4229</th>\n",
       "      <td>1.106503</td>\n",
       "      <td>-0.293037</td>\n",
       "      <td>1.229136</td>\n",
       "      <td>-0.904903</td>\n",
       "      <td>0.509558</td>\n",
       "      <td>-0.218720</td>\n",
       "      <td>-2.870051</td>\n",
       "      <td>0.832647</td>\n",
       "    </tr>\n",
       "    <tr>\n",
       "      <th>4230</th>\n",
       "      <td>1.106503</td>\n",
       "      <td>-1.204601</td>\n",
       "      <td>0.434627</td>\n",
       "      <td>0.757362</td>\n",
       "      <td>-1.299095</td>\n",
       "      <td>0.837219</td>\n",
       "      <td>-0.115429</td>\n",
       "      <td>0.914158</td>\n",
       "    </tr>\n",
       "  </tbody>\n",
       "</table>\n",
       "<p>4231 rows × 8 columns</p>\n",
       "</div>"
      ],
      "text/plain": [
       "         TITLE  RESTAURANT_ID  CUISINES      TIME      CITY  LOCALITY  \\\n",
       "0    -0.862742      -0.831362  0.731565 -0.059086  1.336371  1.186360   \n",
       "1     1.106503       1.096515  1.411712  1.203765  0.974641 -0.691337   \n",
       "2    -0.862742      -1.431146  1.056591 -0.893156  0.974641  0.117648   \n",
       "3     0.765672      -1.701879 -1.445308  1.609053 -0.446444  0.309250   \n",
       "4     1.106503       1.269901  1.421744 -0.925461  0.509558 -0.354970   \n",
       "...        ...            ...       ...       ...       ...       ...   \n",
       "4226 -0.862742       0.283868  0.996401 -1.233832  1.284696  0.909602   \n",
       "4227  0.765672      -1.467932 -1.326935 -0.766871 -1.273257 -0.623212   \n",
       "4228  1.106503       0.185175 -0.500325  1.553252 -0.446444  1.331126   \n",
       "4229  1.106503      -0.293037  1.229136 -0.904903  0.509558 -0.218720   \n",
       "4230  1.106503      -1.204601  0.434627  0.757362 -1.299095  0.837219   \n",
       "\n",
       "        RATING     VOTES  \n",
       "0     0.856791  0.713516  \n",
       "1     0.694755  0.863997  \n",
       "2     0.046608 -0.063971  \n",
       "3     0.046608 -1.305441  \n",
       "4    -0.277465 -0.631410  \n",
       "...        ...       ...  \n",
       "4226  0.208645 -0.339853  \n",
       "4227  0.856791  0.396878  \n",
       "4228 -0.115429  0.606925  \n",
       "4229 -2.870051  0.832647  \n",
       "4230 -0.115429  0.914158  \n",
       "\n",
       "[4231 rows x 8 columns]"
      ]
     },
     "execution_count": 112,
     "metadata": {},
     "output_type": "execute_result"
    }
   ],
   "source": [
    "std=StandardScaler()\n",
    "x=pd.DataFrame(std.fit_transform(data),columns=data.columns)\n",
    "x"
   ]
  },
  {
   "cell_type": "code",
   "execution_count": null,
   "id": "5c69b26b",
   "metadata": {},
   "outputs": [],
   "source": []
  },
  {
   "cell_type": "markdown",
   "id": "a456f93e",
   "metadata": {},
   "source": [
    "# checking variance inflation factor"
   ]
  },
  {
   "cell_type": "code",
   "execution_count": null,
   "id": "c55b37c0",
   "metadata": {},
   "outputs": [],
   "source": []
  },
  {
   "cell_type": "code",
   "execution_count": 113,
   "id": "a70b1b2d",
   "metadata": {},
   "outputs": [
    {
     "data": {
      "text/html": [
       "<div>\n",
       "<style scoped>\n",
       "    .dataframe tbody tr th:only-of-type {\n",
       "        vertical-align: middle;\n",
       "    }\n",
       "\n",
       "    .dataframe tbody tr th {\n",
       "        vertical-align: top;\n",
       "    }\n",
       "\n",
       "    .dataframe thead th {\n",
       "        text-align: right;\n",
       "    }\n",
       "</style>\n",
       "<table border=\"1\" class=\"dataframe\">\n",
       "  <thead>\n",
       "    <tr style=\"text-align: right;\">\n",
       "      <th></th>\n",
       "      <th>variables</th>\n",
       "      <th>VIF values</th>\n",
       "    </tr>\n",
       "  </thead>\n",
       "  <tbody>\n",
       "    <tr>\n",
       "      <th>0</th>\n",
       "      <td>TITLE</td>\n",
       "      <td>1.075024</td>\n",
       "    </tr>\n",
       "    <tr>\n",
       "      <th>1</th>\n",
       "      <td>RESTAURANT_ID</td>\n",
       "      <td>1.005158</td>\n",
       "    </tr>\n",
       "    <tr>\n",
       "      <th>2</th>\n",
       "      <td>CUISINES</td>\n",
       "      <td>1.086194</td>\n",
       "    </tr>\n",
       "    <tr>\n",
       "      <th>3</th>\n",
       "      <td>TIME</td>\n",
       "      <td>1.016678</td>\n",
       "    </tr>\n",
       "    <tr>\n",
       "      <th>4</th>\n",
       "      <td>CITY</td>\n",
       "      <td>1.004461</td>\n",
       "    </tr>\n",
       "    <tr>\n",
       "      <th>5</th>\n",
       "      <td>LOCALITY</td>\n",
       "      <td>1.003680</td>\n",
       "    </tr>\n",
       "    <tr>\n",
       "      <th>6</th>\n",
       "      <td>RATING</td>\n",
       "      <td>1.007467</td>\n",
       "    </tr>\n",
       "    <tr>\n",
       "      <th>7</th>\n",
       "      <td>VOTES</td>\n",
       "      <td>1.002864</td>\n",
       "    </tr>\n",
       "  </tbody>\n",
       "</table>\n",
       "</div>"
      ],
      "text/plain": [
       "       variables  VIF values\n",
       "0          TITLE    1.075024\n",
       "1  RESTAURANT_ID    1.005158\n",
       "2       CUISINES    1.086194\n",
       "3           TIME    1.016678\n",
       "4           CITY    1.004461\n",
       "5       LOCALITY    1.003680\n",
       "6         RATING    1.007467\n",
       "7          VOTES    1.002864"
      ]
     },
     "execution_count": 113,
     "metadata": {},
     "output_type": "execute_result"
    }
   ],
   "source": [
    "vif=pd.DataFrame()\n",
    "vif['variables']=x.columns\n",
    "vif['VIF values']=[variance_inflation_factor(x.values,i) for i in range(len(x.columns))]\n",
    "vif"
   ]
  },
  {
   "cell_type": "code",
   "execution_count": null,
   "id": "69a7f4e7",
   "metadata": {},
   "outputs": [],
   "source": []
  },
  {
   "cell_type": "code",
   "execution_count": 117,
   "id": "eb9b737f",
   "metadata": {},
   "outputs": [],
   "source": [
    "model=joblib.load('restaurant_analysis.pkl')\n",
    "result=pd.DataFrame(model.predict(x))"
   ]
  },
  {
   "cell_type": "code",
   "execution_count": null,
   "id": "ef35b8de",
   "metadata": {},
   "outputs": [],
   "source": []
  },
  {
   "cell_type": "code",
   "execution_count": 118,
   "id": "8d1a25dc",
   "metadata": {},
   "outputs": [
    {
     "data": {
      "text/html": [
       "<div>\n",
       "<style scoped>\n",
       "    .dataframe tbody tr th:only-of-type {\n",
       "        vertical-align: middle;\n",
       "    }\n",
       "\n",
       "    .dataframe tbody tr th {\n",
       "        vertical-align: top;\n",
       "    }\n",
       "\n",
       "    .dataframe thead th {\n",
       "        text-align: right;\n",
       "    }\n",
       "</style>\n",
       "<table border=\"1\" class=\"dataframe\">\n",
       "  <thead>\n",
       "    <tr style=\"text-align: right;\">\n",
       "      <th></th>\n",
       "      <th>0</th>\n",
       "    </tr>\n",
       "  </thead>\n",
       "  <tbody>\n",
       "    <tr>\n",
       "      <th>0</th>\n",
       "      <td>1355.0</td>\n",
       "    </tr>\n",
       "    <tr>\n",
       "      <th>1</th>\n",
       "      <td>315.0</td>\n",
       "    </tr>\n",
       "    <tr>\n",
       "      <th>2</th>\n",
       "      <td>777.0</td>\n",
       "    </tr>\n",
       "    <tr>\n",
       "      <th>3</th>\n",
       "      <td>723.5</td>\n",
       "    </tr>\n",
       "    <tr>\n",
       "      <th>4</th>\n",
       "      <td>348.5</td>\n",
       "    </tr>\n",
       "    <tr>\n",
       "      <th>...</th>\n",
       "      <td>...</td>\n",
       "    </tr>\n",
       "    <tr>\n",
       "      <th>4226</th>\n",
       "      <td>1082.5</td>\n",
       "    </tr>\n",
       "    <tr>\n",
       "      <th>4227</th>\n",
       "      <td>1244.5</td>\n",
       "    </tr>\n",
       "    <tr>\n",
       "      <th>4228</th>\n",
       "      <td>314.2</td>\n",
       "    </tr>\n",
       "    <tr>\n",
       "      <th>4229</th>\n",
       "      <td>341.7</td>\n",
       "    </tr>\n",
       "    <tr>\n",
       "      <th>4230</th>\n",
       "      <td>398.5</td>\n",
       "    </tr>\n",
       "  </tbody>\n",
       "</table>\n",
       "<p>4231 rows × 1 columns</p>\n",
       "</div>"
      ],
      "text/plain": [
       "           0\n",
       "0     1355.0\n",
       "1      315.0\n",
       "2      777.0\n",
       "3      723.5\n",
       "4      348.5\n",
       "...      ...\n",
       "4226  1082.5\n",
       "4227  1244.5\n",
       "4228   314.2\n",
       "4229   341.7\n",
       "4230   398.5\n",
       "\n",
       "[4231 rows x 1 columns]"
      ]
     },
     "execution_count": 118,
     "metadata": {},
     "output_type": "execute_result"
    }
   ],
   "source": [
    "result"
   ]
  },
  {
   "cell_type": "code",
   "execution_count": null,
   "id": "90eb6538",
   "metadata": {},
   "outputs": [],
   "source": []
  },
  {
   "cell_type": "code",
   "execution_count": null,
   "id": "bf29457e",
   "metadata": {},
   "outputs": [],
   "source": []
  },
  {
   "cell_type": "code",
   "execution_count": null,
   "id": "ebf13f5e",
   "metadata": {},
   "outputs": [],
   "source": []
  },
  {
   "cell_type": "code",
   "execution_count": null,
   "id": "dae7f832",
   "metadata": {},
   "outputs": [],
   "source": []
  },
  {
   "cell_type": "code",
   "execution_count": null,
   "id": "7f504c66",
   "metadata": {},
   "outputs": [],
   "source": []
  },
  {
   "cell_type": "code",
   "execution_count": null,
   "id": "295bf984",
   "metadata": {},
   "outputs": [],
   "source": []
  },
  {
   "cell_type": "code",
   "execution_count": null,
   "id": "b9b31c51",
   "metadata": {},
   "outputs": [],
   "source": []
  },
  {
   "cell_type": "code",
   "execution_count": null,
   "id": "1e20b5cf",
   "metadata": {},
   "outputs": [],
   "source": []
  }
 ],
 "metadata": {
  "kernelspec": {
   "display_name": "Python 3 (ipykernel)",
   "language": "python",
   "name": "python3"
  },
  "language_info": {
   "codemirror_mode": {
    "name": "ipython",
    "version": 3
   },
   "file_extension": ".py",
   "mimetype": "text/x-python",
   "name": "python",
   "nbconvert_exporter": "python",
   "pygments_lexer": "ipython3",
   "version": "3.11.4"
  }
 },
 "nbformat": 4,
 "nbformat_minor": 5
}
